{
 "cells": [
  {
   "cell_type": "markdown",
   "metadata": {
    "collapsed": true,
    "deletable": true,
    "editable": true
   },
   "source": [
    "# Image Classification\n",
    "In this project, you'll classify images from the [CIFAR-10 dataset](https://www.cs.toronto.edu/~kriz/cifar.html).  The dataset consists of airplanes, dogs, cats, and other objects. You'll preprocess the images, then train a convolutional neural network on all the samples. The images need to be normalized and the labels need to be one-hot encoded.  You'll get to apply what you learned and build a convolutional, max pooling, dropout, and fully connected layers.  At the end, you'll get to see your neural network's predictions on the sample images.\n",
    "## Get the Data\n",
    "Run the following cell to download the [CIFAR-10 dataset for python](https://www.cs.toronto.edu/~kriz/cifar-10-python.tar.gz)."
   ]
  },
  {
   "cell_type": "code",
   "execution_count": 76,
   "metadata": {
    "collapsed": false,
    "deletable": true,
    "editable": true
   },
   "outputs": [
    {
     "name": "stdout",
     "output_type": "stream",
     "text": [
      "All files found!\n"
     ]
    }
   ],
   "source": [
    "\"\"\"\n",
    "DON'T MODIFY ANYTHING IN THIS CELL THAT IS BELOW THIS LINE\n",
    "\"\"\"\n",
    "from urllib.request import urlretrieve\n",
    "from os.path import isfile, isdir\n",
    "from tqdm import tqdm\n",
    "import problem_unittests as tests\n",
    "import tarfile\n",
    "\n",
    "cifar10_dataset_folder_path = 'cifar-10-batches-py'\n",
    "\n",
    "# Use Floyd's cifar-10 dataset if present\n",
    "floyd_cifar10_location = '/input/cifar-10/python.tar.gz'\n",
    "if isfile(floyd_cifar10_location):\n",
    "    tar_gz_path = floyd_cifar10_location\n",
    "else:\n",
    "    tar_gz_path = 'cifar-10-python.tar.gz'\n",
    "\n",
    "class DLProgress(tqdm):\n",
    "    last_block = 0\n",
    "\n",
    "    def hook(self, block_num=1, block_size=1, total_size=None):\n",
    "        self.total = total_size\n",
    "        self.update((block_num - self.last_block) * block_size)\n",
    "        self.last_block = block_num\n",
    "\n",
    "if not isfile(tar_gz_path):\n",
    "    with DLProgress(unit='B', unit_scale=True, miniters=1, desc='CIFAR-10 Dataset') as pbar:\n",
    "        urlretrieve(\n",
    "            'https://www.cs.toronto.edu/~kriz/cifar-10-python.tar.gz',\n",
    "            tar_gz_path,\n",
    "            pbar.hook)\n",
    "\n",
    "if not isdir(cifar10_dataset_folder_path):\n",
    "    with tarfile.open(tar_gz_path) as tar:\n",
    "        tar.extractall()\n",
    "        tar.close()\n",
    "\n",
    "\n",
    "tests.test_folder_path(cifar10_dataset_folder_path)"
   ]
  },
  {
   "cell_type": "markdown",
   "metadata": {
    "deletable": true,
    "editable": true
   },
   "source": [
    "## Explore the Data\n",
    "The dataset is broken into batches to prevent your machine from running out of memory.  The CIFAR-10 dataset consists of 5 batches, named `data_batch_1`, `data_batch_2`, etc.. Each batch contains the labels and images that are one of the following:\n",
    "* airplane\n",
    "* automobile\n",
    "* bird\n",
    "* cat\n",
    "* deer\n",
    "* dog\n",
    "* frog\n",
    "* horse\n",
    "* ship\n",
    "* truck\n",
    "\n",
    "Understanding a dataset is part of making predictions on the data.  Play around with the code cell below by changing the `batch_id` and `sample_id`. The `batch_id` is the id for a batch (1-5). The `sample_id` is the id for a image and label pair in the batch.\n",
    "\n",
    "Ask yourself \"What are all possible labels?\", \"What is the range of values for the image data?\", \"Are the labels in order or random?\".  Answers to questions like these will help you preprocess the data and end up with better predictions."
   ]
  },
  {
   "cell_type": "code",
   "execution_count": 77,
   "metadata": {
    "collapsed": false,
    "deletable": true,
    "editable": true
   },
   "outputs": [
    {
     "name": "stdout",
     "output_type": "stream",
     "text": [
      "\n",
      "Stats of batch 2:\n",
      "Samples: 10000\n",
      "Label Counts: {0: 984, 1: 1007, 2: 1010, 3: 995, 4: 1010, 5: 988, 6: 1008, 7: 1026, 8: 987, 9: 985}\n",
      "First 20 Labels: [1, 6, 6, 8, 8, 3, 4, 6, 0, 6, 0, 3, 6, 6, 5, 4, 8, 3, 2, 6]\n",
      "\n",
      "Example of Image 3:\n",
      "Image - Min Value: 4 Max Value: 255\n",
      "Image - Shape: (32, 32, 3)\n",
      "Label - Label Id: 8 Name: ship\n"
     ]
    },
    {
     "data": {
      "image/png": "[encoded data removed]",
      "text/plain": [
       "<matplotlib.figure.Figure at 0x7fb90e992860>"
      ]
     },
     "metadata": {
      "image/png": {
       "height": 250,
       "width": 253
      }
     },
     "output_type": "display_data"
    }
   ],
   "source": [
    "%matplotlib inline\n",
    "%config InlineBackend.figure_format = 'retina'\n",
    "\n",
    "import helper\n",
    "import numpy as np\n",
    "\n",
    "# Explore the dataset\n",
    "batch_id = 2\n",
    "sample_id = 3\n",
    "helper.display_stats(cifar10_dataset_folder_path, batch_id, sample_id)"
   ]
  },
  {
   "cell_type": "markdown",
   "metadata": {
    "deletable": true,
    "editable": true
   },
   "source": [
    "## Implement Preprocess Functions\n",
    "### Normalize\n",
    "In the cell below, implement the `normalize` function to take in image data, `x`, and return it as a normalized Numpy array. The values should be in the range of 0 to 1, inclusive.  The return object should be the same shape as `x`."
   ]
  },
  {
   "cell_type": "code",
   "execution_count": 78,
   "metadata": {
    "collapsed": false,
    "deletable": true,
    "editable": true
   },
   "outputs": [
    {
     "name": "stdout",
     "output_type": "stream",
     "text": [
      "Tests Passed\n"
     ]
    }
   ],
   "source": [
    "def normalize(x):\n",
    "    \"\"\"\n",
    "    Normalize a list of sample image data in the range of 0 to 1\n",
    "    : x: List of image data.  The image shape is (32, 32, 3)\n",
    "    : return: Numpy array of normalize data\n",
    "    \"\"\"\n",
    "    # Generic function for normalizing data between a & b\n",
    "    # Be careful with float\n",
    "    a = 0.0\n",
    "    b = 1.0\n",
    "    grayscale_min = 0.0\n",
    "    grayscale_max = 255.0\n",
    "    return a + ( ( (x - grayscale_min)*(b - a) )/( grayscale_max - grayscale_min ) )\n",
    "\n",
    "\n",
    "\"\"\"\n",
    "DON'T MODIFY ANYTHING IN THIS CELL THAT IS BELOW THIS LINE\n",
    "\"\"\"\n",
    "tests.test_normalize(normalize)"
   ]
  },
  {
   "cell_type": "markdown",
   "metadata": {
    "deletable": true,
    "editable": true
   },
   "source": [
    "### One-hot encode\n",
    "Just like the previous code cell, you'll be implementing a function for preprocessing.  This time, you'll implement the `one_hot_encode` function. The input, `x`, are a list of labels.  Implement the function to return the list of labels as One-Hot encoded Numpy array.  The possible values for labels are 0 to 9. The one-hot encoding function should return the same encoding for each value between each call to `one_hot_encode`.  Make sure to save the map of encodings outside the function.\n",
    "\n",
    "Hint: Don't reinvent the wheel."
   ]
  },
  {
   "cell_type": "code",
   "execution_count": 79,
   "metadata": {
    "collapsed": false,
    "deletable": true,
    "editable": true
   },
   "outputs": [
    {
     "name": "stdout",
     "output_type": "stream",
     "text": [
      "Tests Passed\n"
     ]
    }
   ],
   "source": [
    "from sklearn import preprocessing\n",
    "lb = preprocessing.LabelBinarizer()\n",
    "classes = np.array([0,1,2,3,4,5,6,7,8,9])\n",
    "lb.fit(classes)\n",
    "\n",
    "def one_hot_encode(x):\n",
    "    \"\"\"\n",
    "    One hot encode a list of sample labels. Return a one-hot encoded vector for each label.\n",
    "    : x: List of sample Labels\n",
    "    : return: Numpy array of one-hot encoded labels\n",
    "    \"\"\"\n",
    "    # TODO: Implement Function\n",
    "    return lb.transform(x)\n",
    "\n",
    "\n",
    "\"\"\"\n",
    "DON'T MODIFY ANYTHING IN THIS CELL THAT IS BELOW THIS LINE\n",
    "\"\"\"\n",
    "tests.test_one_hot_encode(one_hot_encode)"
   ]
  },
  {
   "cell_type": "code",
   "execution_count": 80,
   "metadata": {
    "collapsed": false,
    "deletable": true,
    "editable": true
   },
   "outputs": [
    {
     "data": {
      "text/plain": [
       "array([[0, 1, 0, 0, 0, 0, 0, 0, 0, 0],\n",
       "       [0, 0, 0, 1, 0, 0, 0, 0, 0, 0],\n",
       "       [0, 0, 0, 0, 0, 1, 0, 0, 0, 0]])"
      ]
     },
     "execution_count": 80,
     "metadata": {},
     "output_type": "execute_result"
    }
   ],
   "source": [
    "# Example\n",
    "lb.transform([1,3,5])"
   ]
  },
  {
   "cell_type": "markdown",
   "metadata": {
    "deletable": true,
    "editable": true
   },
   "source": [
    "### Randomize Data\n",
    "As you saw from exploring the data above, the order of the samples are randomized.  It doesn't hurt to randomize it again, but you don't need to for this dataset."
   ]
  },
  {
   "cell_type": "markdown",
   "metadata": {
    "deletable": true,
    "editable": true
   },
   "source": [
    "## Preprocess all the data and save it\n",
    "Running the code cell below will preprocess all the CIFAR-10 data and save it to file. The code below also uses 10% of the training data for validation."
   ]
  },
  {
   "cell_type": "code",
   "execution_count": 81,
   "metadata": {
    "collapsed": false,
    "deletable": true,
    "editable": true
   },
   "outputs": [],
   "source": [
    "\"\"\"\n",
    "DON'T MODIFY ANYTHING IN THIS CELL\n",
    "\"\"\"\n",
    "# Preprocess Training, Validation, and Testing Data\n",
    "helper.preprocess_and_save_data(cifar10_dataset_folder_path, normalize, one_hot_encode)"
   ]
  },
  {
   "cell_type": "markdown",
   "metadata": {
    "deletable": true,
    "editable": true
   },
   "source": [
    "# Check Point\n",
    "This is your first checkpoint.  If you ever decide to come back to this notebook or have to restart the notebook, you can start from here.  The preprocessed data has been saved to disk."
   ]
  },
  {
   "cell_type": "code",
   "execution_count": 82,
   "metadata": {
    "collapsed": true,
    "deletable": true,
    "editable": true
   },
   "outputs": [],
   "source": [
    "\"\"\"\n",
    "DON'T MODIFY ANYTHING IN THIS CELL\n",
    "\"\"\"\n",
    "import pickle\n",
    "import problem_unittests as tests\n",
    "import helper\n",
    "\n",
    "# Load the Preprocessed Validation data\n",
    "valid_features, valid_labels = pickle.load(open('preprocess_validation.p', mode='rb'))"
   ]
  },
  {
   "cell_type": "markdown",
   "metadata": {
    "deletable": true,
    "editable": true
   },
   "source": [
    "## Build the network\n",
    "For the neural network, you'll build each layer into a function.  Most of the code you've seen has been outside of functions. To test your code more thoroughly, we require that you put each layer in a function.  This allows us to give you better feedback and test for simple mistakes using our unittests before you submit your project.\n",
    "\n",
    ">**Note:** If you're finding it hard to dedicate enough time for this course each week, we've provided a small shortcut to this part of the project. In the next couple of problems, you'll have the option to use classes from the [TensorFlow Layers](https://www.tensorflow.org/api_docs/python/tf/layers) or [TensorFlow Layers (contrib)](https://www.tensorflow.org/api_guides/python/contrib.layers) packages to build each layer, except the layers you build in the \"Convolutional and Max Pooling Layer\" section.  TF Layers is similar to Keras's and TFLearn's abstraction to layers, so it's easy to pickup.\n",
    "\n",
    ">However, if you would like to get the most out of this course, try to solve all the problems _without_ using anything from the TF Layers packages. You **can** still use classes from other packages that happen to have the same name as ones you find in TF Layers! For example, instead of using the TF Layers version of the `conv2d` class, [tf.layers.conv2d](https://www.tensorflow.org/api_docs/python/tf/layers/conv2d), you would want to use the TF Neural Network version of `conv2d`, [tf.nn.conv2d](https://www.tensorflow.org/api_docs/python/tf/nn/conv2d). \n",
    "\n",
    "Let's begin!\n",
    "\n",
    "### Input\n",
    "The neural network needs to read the image data, one-hot encoded labels, and dropout keep probability. Implement the following functions\n",
    "* Implement `neural_net_image_input`\n",
    " * Return a [TF Placeholder](https://www.tensorflow.org/api_docs/python/tf/placeholder)\n",
    " * Set the shape using `image_shape` with batch size set to `None`.\n",
    " * Name the TensorFlow placeholder \"x\" using the TensorFlow `name` parameter in the [TF Placeholder](https://www.tensorflow.org/api_docs/python/tf/placeholder).\n",
    "* Implement `neural_net_label_input`\n",
    " * Return a [TF Placeholder](https://www.tensorflow.org/api_docs/python/tf/placeholder)\n",
    " * Set the shape using `n_classes` with batch size set to `None`.\n",
    " * Name the TensorFlow placeholder \"y\" using the TensorFlow `name` parameter in the [TF Placeholder](https://www.tensorflow.org/api_docs/python/tf/placeholder).\n",
    "* Implement `neural_net_keep_prob_input`\n",
    " * Return a [TF Placeholder](https://www.tensorflow.org/api_docs/python/tf/placeholder) for dropout keep probability.\n",
    " * Name the TensorFlow placeholder \"keep_prob\" using the TensorFlow `name` parameter in the [TF Placeholder](https://www.tensorflow.org/api_docs/python/tf/placeholder).\n",
    "\n",
    "These names will be used at the end of the project to load your saved model.\n",
    "\n",
    "Note: `None` for shapes in TensorFlow allow for a dynamic size."
   ]
  },
  {
   "cell_type": "code",
   "execution_count": 84,
   "metadata": {
    "collapsed": false,
    "deletable": true,
    "editable": true
   },
   "outputs": [
    {
     "name": "stdout",
     "output_type": "stream",
     "text": [
      "Image Input Tests Passed.\n",
      "Label Input Tests Passed.\n",
      "Keep Prob Tests Passed.\n"
     ]
    }
   ],
   "source": [
    "import tensorflow as tf\n",
    "\n",
    "def neural_net_image_input(image_shape):\n",
    "    \"\"\"\n",
    "    Return a Tensor for a batch of image input\n",
    "    : image_shape: Shape of the images\n",
    "    : return: Tensor for image input.\n",
    "    \"\"\"\n",
    "    # TODO: Implement Function    \n",
    "    return tf.placeholder(tf.float32,(None,) + image_shape,\"x\")\n",
    "\n",
    "\n",
    "def neural_net_label_input(n_classes):\n",
    "    \"\"\"\n",
    "    Return a Tensor for a batch of label input\n",
    "    : n_classes: Number of classes\n",
    "    : return: Tensor for label input.\n",
    "    \"\"\"\n",
    "    # TODO: Implement Function\n",
    "    return tf.placeholder(tf.float32,(None,n_classes),\"y\")\n",
    "\n",
    "\n",
    "def neural_net_keep_prob_input():\n",
    "    \"\"\"\n",
    "    Return a Tensor for keep probability\n",
    "    : return: Tensor for keep probability.\n",
    "    \"\"\"\n",
    "    # TODO: Implement Function\n",
    "    return tf.placeholder(tf.float32,name=\"keep_prob\")\n",
    "\n",
    "\n",
    "\"\"\"\n",
    "DON'T MODIFY ANYTHING IN THIS CELL THAT IS BELOW THIS LINE\n",
    "\"\"\"\n",
    "tf.reset_default_graph()\n",
    "tests.test_nn_image_inputs(neural_net_image_input)\n",
    "tests.test_nn_label_inputs(neural_net_label_input)\n",
    "tests.test_nn_keep_prob_inputs(neural_net_keep_prob_input)"
   ]
  },
  {
   "cell_type": "markdown",
   "metadata": {
    "deletable": true,
    "editable": true
   },
   "source": [
    "### Convolution and Max Pooling Layer\n",
    "Convolution layers have a lot of success with images. For this code cell, you should implement the function `conv2d_maxpool` to apply convolution then max pooling:\n",
    "* Create the weight and bias using `conv_ksize`, `conv_num_outputs` and the shape of `x_tensor`.\n",
    "* Apply a convolution to `x_tensor` using weight and `conv_strides`.\n",
    " * We recommend you use same padding, but you're welcome to use any padding.\n",
    "* Add bias\n",
    "* Add a nonlinear activation to the convolution.\n",
    "* Apply Max Pooling using `pool_ksize` and `pool_strides`.\n",
    " * We recommend you use same padding, but you're welcome to use any padding.\n",
    "\n",
    "**Note:** You **can't** use [TensorFlow Layers](https://www.tensorflow.org/api_docs/python/tf/layers) or [TensorFlow Layers (contrib)](https://www.tensorflow.org/api_guides/python/contrib.layers) for **this** layer, but you can still use TensorFlow's [Neural Network](https://www.tensorflow.org/api_docs/python/tf/nn) package. You may still use the shortcut option for all the **other** layers."
   ]
  },
  {
   "cell_type": "code",
   "execution_count": 101,
   "metadata": {
    "collapsed": true
   },
   "outputs": [],
   "source": [
    "stdev=0.05"
   ]
  },
  {
   "cell_type": "code",
   "execution_count": 102,
   "metadata": {
    "collapsed": false,
    "deletable": true,
    "editable": true
   },
   "outputs": [
    {
     "name": "stdout",
     "output_type": "stream",
     "text": [
      "Tests Passed\n"
     ]
    }
   ],
   "source": [
    "def conv2d_maxpool(x_tensor, conv_num_outputs, conv_ksize, conv_strides, pool_ksize, pool_strides):\n",
    "    \"\"\"\n",
    "    Apply convolution then max pooling to x_tensor\n",
    "    :param x_tensor: TensorFlow Tensor\n",
    "    :param conv_num_outputs: Number of outputs for the convolutional layer\n",
    "    :param conv_ksize: kernal size 2-D Tuple for the convolutional layer\n",
    "    :param conv_strides: Stride 2-D Tuple for convolution\n",
    "    :param pool_ksize: kernal size 2-D Tuple for pool\n",
    "    :param pool_strides: Stride 2-D Tuple for pool\n",
    "    : return: A tensor that represents convolution and max pooling of x_tensor\n",
    "    \"\"\"\n",
    "    # TODO: Implement Function\n",
    "    # Initializing weight with low stddev. Important!!\n",
    "    weigth = tf.Variable(tf.random_normal(conv_ksize + (x_tensor.get_shape().as_list()[3],) + (conv_num_outputs,),stddev=stdev))\n",
    "    bias = tf.Variable(tf.random_normal([conv_num_outputs]))\n",
    "    \n",
    "    x_tensor = tf.nn.conv2d(x_tensor, weigth, [1,conv_strides[0],conv_strides[1],1], padding='SAME')\n",
    "    x_tensor = tf.nn.bias_add(x_tensor, bias)\n",
    "    x_tensor = tf.nn.relu(x_tensor)\n",
    "    x_tensor = tf.nn.max_pool(x_tensor,ksize=[1,pool_ksize[0],pool_ksize[1],1], strides= [1,pool_strides[0],pool_strides[1],1], padding='SAME' )\n",
    "    \n",
    "    return x_tensor\n",
    "\n",
    "\n",
    "\"\"\"\n",
    "DON'T MODIFY ANYTHING IN THIS CELL THAT IS BELOW THIS LINE\n",
    "\"\"\"\n",
    "tests.test_con_pool(conv2d_maxpool)"
   ]
  },
  {
   "cell_type": "markdown",
   "metadata": {
    "deletable": true,
    "editable": true
   },
   "source": [
    "### Flatten Layer\n",
    "Implement the `flatten` function to change the dimension of `x_tensor` from a 4-D tensor to a 2-D tensor.  The output should be the shape (*Batch Size*, *Flattened Image Size*). Shortcut option: you can use classes from the [TensorFlow Layers](https://www.tensorflow.org/api_docs/python/tf/layers) or [TensorFlow Layers (contrib)](https://www.tensorflow.org/api_guides/python/contrib.layers) packages for this layer. For more of a challenge, only use other TensorFlow packages."
   ]
  },
  {
   "cell_type": "code",
   "execution_count": 103,
   "metadata": {
    "collapsed": false,
    "deletable": true,
    "editable": true,
    "scrolled": true
   },
   "outputs": [
    {
     "name": "stdout",
     "output_type": "stream",
     "text": [
      "Tests Passed\n"
     ]
    }
   ],
   "source": [
    "def flatten(x_tensor):\n",
    "    \"\"\"\n",
    "    Flatten x_tensor to (Batch Size, Flattened Image Size)\n",
    "    : x_tensor: A tensor of size (Batch Size, ...), where ... are the image dimensions.\n",
    "    : return: A tensor of size (Batch Size, Flattened Image Size).\n",
    "    \"\"\"\n",
    "    # return tf.reshape(x_tensor,[-1]) # Not sure the way of using reshape for flattering here with \"None\"\n",
    "    return tf.contrib.layers.flatten(x_tensor)\n",
    "\n",
    "\n",
    "\"\"\"\n",
    "DON'T MODIFY ANYTHING IN THIS CELL THAT IS BELOW THIS LINE\n",
    "\"\"\"\n",
    "tests.test_flatten(flatten)"
   ]
  },
  {
   "cell_type": "markdown",
   "metadata": {
    "deletable": true,
    "editable": true
   },
   "source": [
    "### Fully-Connected Layer\n",
    "Implement the `fully_conn` function to apply a fully connected layer to `x_tensor` with the shape (*Batch Size*, *num_outputs*). Shortcut option: you can use classes from the [TensorFlow Layers](https://www.tensorflow.org/api_docs/python/tf/layers) or [TensorFlow Layers (contrib)](https://www.tensorflow.org/api_guides/python/contrib.layers) packages for this layer. For more of a challenge, only use other TensorFlow packages."
   ]
  },
  {
   "cell_type": "code",
   "execution_count": 104,
   "metadata": {
    "collapsed": false,
    "deletable": true,
    "editable": true,
    "scrolled": true
   },
   "outputs": [
    {
     "name": "stdout",
     "output_type": "stream",
     "text": [
      "Tests Passed\n"
     ]
    }
   ],
   "source": [
    "def fully_conn(x_tensor, num_outputs):\n",
    "    \"\"\"\n",
    "    Apply a fully connected layer to x_tensor using weight and bias\n",
    "    : x_tensor: A 2-D tensor where the first dimension is batch size.\n",
    "    : num_outputs: The number of output that the new tensor should be.\n",
    "    : return: A 2-D tensor where the second dimension is num_outputs.\n",
    "    \"\"\"\n",
    "    # Initializing weight with low stddev. Important!!\n",
    "    weigth_fc = tf.Variable(tf.random_normal([x_tensor.get_shape().as_list()[1], num_outputs],stddev=stdev))\n",
    "    bias_fc = tf.Variable(tf.random_normal([num_outputs]))\n",
    "                            \n",
    "    fc = tf.add(tf.matmul(x_tensor,weigth_fc),bias_fc)\n",
    "    fc = tf.nn.relu(fc)\n",
    "    \n",
    "    return fc\n",
    "\n",
    "\"\"\"\n",
    "DON'T MODIFY ANYTHING IN THIS CELL THAT IS BELOW THIS LINE\n",
    "\"\"\"\n",
    "tests.test_fully_conn(fully_conn)"
   ]
  },
  {
   "cell_type": "markdown",
   "metadata": {
    "deletable": true,
    "editable": true
   },
   "source": [
    "### Output Layer\n",
    "Implement the `output` function to apply a fully connected layer to `x_tensor` with the shape (*Batch Size*, *num_outputs*). Shortcut option: you can use classes from the [TensorFlow Layers](https://www.tensorflow.org/api_docs/python/tf/layers) or [TensorFlow Layers (contrib)](https://www.tensorflow.org/api_guides/python/contrib.layers) packages for this layer. For more of a challenge, only use other TensorFlow packages.\n",
    "\n",
    "**Note:** Activation, softmax, or cross entropy should **not** be applied to this."
   ]
  },
  {
   "cell_type": "code",
   "execution_count": 105,
   "metadata": {
    "collapsed": false,
    "deletable": true,
    "editable": true
   },
   "outputs": [
    {
     "name": "stdout",
     "output_type": "stream",
     "text": [
      "Tests Passed\n"
     ]
    }
   ],
   "source": [
    "def output(x_tensor, num_outputs):\n",
    "    \"\"\"\n",
    "    Apply a output layer to x_tensor using weight and bias\n",
    "    : x_tensor: A 2-D tensor where the first dimension is batch size.\n",
    "    : num_outputs: The number of output that the new tensor should be.\n",
    "    : return: A 2-D tensor where the second dimension is num_outputs.\n",
    "    \"\"\"\n",
    "    # Initializing weight with low stddev. Important!!\n",
    "    weigth_out = tf.Variable(tf.random_normal([x_tensor.get_shape().as_list()[1], num_outputs],stddev=stdev))\n",
    "    bias_out = tf.Variable(tf.random_normal([num_outputs]))\n",
    "                            \n",
    "    out = tf.add(tf.matmul(x_tensor,weigth_out),bias_out)\n",
    "    \n",
    "    return out\n",
    "\n",
    "\n",
    "\"\"\"\n",
    "DON'T MODIFY ANYTHING IN THIS CELL THAT IS BELOW THIS LINE\n",
    "\"\"\"\n",
    "tests.test_output(output)"
   ]
  },
  {
   "cell_type": "markdown",
   "metadata": {
    "deletable": true,
    "editable": true
   },
   "source": [
    "### Create Convolutional Model\n",
    "Implement the function `conv_net` to create a convolutional neural network model. The function takes in a batch of images, `x`, and outputs logits.  Use the layers you created above to create this model:\n",
    "\n",
    "* Apply 1, 2, or 3 Convolution and Max Pool layers\n",
    "* Apply a Flatten Layer\n",
    "* Apply 1, 2, or 3 Fully Connected Layers\n",
    "* Apply an Output Layer\n",
    "* Return the output\n",
    "* Apply [TensorFlow's Dropout](https://www.tensorflow.org/api_docs/python/tf/nn/dropout) to one or more layers in the model using `keep_prob`. "
   ]
  },
  {
   "cell_type": "code",
   "execution_count": 117,
   "metadata": {
    "collapsed": false,
    "deletable": true,
    "editable": true
   },
   "outputs": [
    {
     "name": "stdout",
     "output_type": "stream",
     "text": [
      "[None, 32, 32, 3]\n",
      "[None, 32, 32, 3]\n",
      "Neural Network Built!\n"
     ]
    }
   ],
   "source": [
    "def conv_net(x, keep_prob):\n",
    "    \"\"\"\n",
    "    Create a convolutional neural network model\n",
    "    : x: Placeholder tensor that holds image data.\n",
    "    : keep_prob: Placeholder tensor that hold dropout keep probability.\n",
    "    : return: Tensor that represents logits\n",
    "    \"\"\"\n",
    "    print(x.get_shape().as_list())\n",
    "    \n",
    "    # TODO: Apply 1, 2, or 3 Convolution and Max Pool layers\n",
    "    #    Play around with different number of outputs, kernel size and stride\n",
    "    # Function Definition from Above:\n",
    "    #    conv2d_maxpool(x_tensor, conv_num_outputs, conv_ksize, conv_strides, pool_ksize, pool_strides)\n",
    "    \n",
    "    # Layer 1\n",
    "    conv1 = conv2d_maxpool(x, 32, (4,4), (2,2), (2,2), (2,2))\n",
    "    conv2 = conv2d_maxpool(conv1, 64, (6,6), (2,2), (2,2), (2,2))\n",
    "    conv3 = conv2d_maxpool(conv1, 128, (3,3), (2,2), (2,2), (2,2))\n",
    "\n",
    "    # TODO: Apply a Flatten Layer\n",
    "    # Function Definition from Above:\n",
    "    #   flatten(x_tensor)\n",
    "    flat = flatten(conv3)\n",
    "\n",
    "    # TODO: Apply 1, 2, or 3 Fully Connected Layers\n",
    "    #    Play around with different number of outputs\n",
    "    # Function Definition from Above:\n",
    "    #   fully_conn(x_tensor, num_outputs)\n",
    "    fc1 = fully_conn(flat, 256)\n",
    "    fc1 = tf.nn.dropout(fc1, keep_prob)\n",
    "    fc3 = fully_conn(fc1,  128)\n",
    "    fc3 = tf.nn.dropout(fc3, keep_prob)\n",
    "    \n",
    "    \n",
    "    # TODO: Apply an Output Layer\n",
    "    #    Set this to the number of classes\n",
    "    # Function Definition from Above:\n",
    "    #   output(x_tensor, num_outputs)\n",
    "    out = output(fc3, 10)\n",
    "    \n",
    "    # TODO: return output\n",
    "    return out\n",
    "\n",
    "\n",
    "\"\"\"\n",
    "DON'T MODIFY ANYTHING IN THIS CELL THAT IS BELOW THIS LINE\n",
    "\"\"\"\n",
    "\n",
    "##############################\n",
    "## Build the Neural Network ##\n",
    "##############################\n",
    "\n",
    "# Remove previous weights, bias, inputs, etc..\n",
    "tf.reset_default_graph()\n",
    "\n",
    "# Inputs\n",
    "x = neural_net_image_input((32, 32, 3))\n",
    "y = neural_net_label_input(10)\n",
    "keep_prob = neural_net_keep_prob_input()\n",
    "\n",
    "# Model\n",
    "logits = conv_net(x, keep_prob)\n",
    "\n",
    "# Name logits Tensor, so that is can be loaded from disk after training\n",
    "logits = tf.identity(logits, name='logits')\n",
    "\n",
    "# Loss and Optimizer\n",
    "cost = tf.reduce_mean(tf.nn.softmax_cross_entropy_with_logits(logits=logits, labels=y))\n",
    "optimizer = tf.train.AdamOptimizer().minimize(cost)\n",
    "\n",
    "# Accuracy\n",
    "correct_pred = tf.equal(tf.argmax(logits, 1), tf.argmax(y, 1))\n",
    "accuracy = tf.reduce_mean(tf.cast(correct_pred, tf.float32), name='accuracy')\n",
    "\n",
    "tests.test_conv_net(conv_net)"
   ]
  },
  {
   "cell_type": "markdown",
   "metadata": {
    "deletable": true,
    "editable": true
   },
   "source": [
    "## Train the Neural Network\n",
    "### Single Optimization\n",
    "Implement the function `train_neural_network` to do a single optimization.  The optimization should use `optimizer` to optimize in `session` with a `feed_dict` of the following:\n",
    "* `x` for image input\n",
    "* `y` for labels\n",
    "* `keep_prob` for keep probability for dropout\n",
    "\n",
    "This function will be called for each batch, so `tf.global_variables_initializer()` has already been called.\n",
    "\n",
    "Note: Nothing needs to be returned. This function is only optimizing the neural network."
   ]
  },
  {
   "cell_type": "code",
   "execution_count": 118,
   "metadata": {
    "collapsed": false,
    "deletable": true,
    "editable": true
   },
   "outputs": [
    {
     "name": "stdout",
     "output_type": "stream",
     "text": [
      "Tests Passed\n"
     ]
    }
   ],
   "source": [
    "def train_neural_network(session, optimizer, keep_probability, feature_batch, label_batch):\n",
    "    \"\"\"\n",
    "    Optimize the session on a batch of images and labels\n",
    "    : session: Current TensorFlow session\n",
    "    : optimizer: TensorFlow optimizer function\n",
    "    : keep_probability: keep probability\n",
    "    : feature_batch: Batch of Numpy image data\n",
    "    : label_batch: Batch of Numpy label data\n",
    "    \"\"\"\n",
    "    session.run(optimizer, feed_dict={\n",
    "        x: feature_batch,\n",
    "        y: label_batch,\n",
    "        keep_prob: keep_probability\n",
    "    })\n",
    "\n",
    "\n",
    "\"\"\"\n",
    "DON'T MODIFY ANYTHING IN THIS CELL THAT IS BELOW THIS LINE\n",
    "\"\"\"\n",
    "tests.test_train_nn(train_neural_network)"
   ]
  },
  {
   "cell_type": "markdown",
   "metadata": {
    "deletable": true,
    "editable": true
   },
   "source": [
    "### Show Stats\n",
    "Implement the function `print_stats` to print loss and validation accuracy.  Use the global variables `valid_features` and `valid_labels` to calculate validation accuracy.  Use a keep probability of `1.0` to calculate the loss and validation accuracy."
   ]
  },
  {
   "cell_type": "code",
   "execution_count": 119,
   "metadata": {
    "collapsed": false,
    "deletable": true,
    "editable": true
   },
   "outputs": [],
   "source": [
    "def print_stats(session, feature_batch, label_batch, cost, accuracy):\n",
    "    \"\"\"\n",
    "    Print information about loss and validation accuracy\n",
    "    : session: Current TensorFlow session\n",
    "    : feature_batch: Batch of Numpy image data\n",
    "    : label_batch: Batch of Numpy label data\n",
    "    : cost: TensorFlow cost function\n",
    "    : accuracy: TensorFlow accuracy function\n",
    "    \"\"\"\n",
    "    # TODO: Implement Function\n",
    "    \n",
    "    loss = sess.run(cost, feed_dict={\n",
    "                x: feature_batch,\n",
    "                y: label_batch,\n",
    "                keep_prob: 1.})\n",
    "    valid_acc = sess.run(accuracy, feed_dict={\n",
    "                x: valid_features,\n",
    "                y: valid_labels,\n",
    "                keep_prob: 1.})\n",
    "\n",
    "    print('Loss: {:>10.4f} Validation Accuracy: {:.6f}'.format(loss,valid_acc))"
   ]
  },
  {
   "cell_type": "markdown",
   "metadata": {
    "deletable": true,
    "editable": true
   },
   "source": [
    "### Hyperparameters\n",
    "Tune the following parameters:\n",
    "* Set `epochs` to the number of iterations until the network stops learning or start overfitting\n",
    "* Set `batch_size` to the highest number that your machine has memory for.  Most people set them to common sizes of memory:\n",
    " * 64\n",
    " * 128\n",
    " * 256\n",
    " * ...\n",
    "* Set `keep_probability` to the probability of keeping a node using dropout"
   ]
  },
  {
   "cell_type": "code",
   "execution_count": 120,
   "metadata": {
    "collapsed": true,
    "deletable": true,
    "editable": true
   },
   "outputs": [],
   "source": [
    "# TODO: Tune Parameters\n",
    "epochs = 100\n",
    "batch_size = 4096\n",
    "keep_probability = 0.6\n",
    "stdev=0.05"
   ]
  },
  {
   "cell_type": "markdown",
   "metadata": {
    "deletable": true,
    "editable": true
   },
   "source": [
    "### Train on a Single CIFAR-10 Batch\n",
    "Instead of training the neural network on all the CIFAR-10 batches of data, let's use a single batch. This should save time while you iterate on the model to get a better accuracy.  Once the final validation accuracy is 50% or greater, run the model on all the data in the next section."
   ]
  },
  {
   "cell_type": "code",
   "execution_count": 121,
   "metadata": {
    "collapsed": false,
    "deletable": true,
    "editable": true,
    "scrolled": true
   },
   "outputs": [
    {
     "name": "stdout",
     "output_type": "stream",
     "text": [
      "Checking the Training on a Single Batch...\n",
      "Epoch  1, CIFAR-10 Batch 1:  Loss:     2.3147 Validation Accuracy: 0.106800\n",
      "Epoch  2, CIFAR-10 Batch 1:  Loss:     2.3112 Validation Accuracy: 0.105000\n",
      "Epoch  3, CIFAR-10 Batch 1:  Loss:     2.3152 Validation Accuracy: 0.103000\n",
      "Epoch  4, CIFAR-10 Batch 1:  Loss:     2.3271 Validation Accuracy: 0.103000\n",
      "Epoch  5, CIFAR-10 Batch 1:  Loss:     2.3185 Validation Accuracy: 0.099200\n",
      "Epoch  6, CIFAR-10 Batch 1:  Loss:     2.3060 Validation Accuracy: 0.145200\n",
      "Epoch  7, CIFAR-10 Batch 1:  Loss:     2.3016 Validation Accuracy: 0.103000\n",
      "Epoch  8, CIFAR-10 Batch 1:  Loss:     2.3017 Validation Accuracy: 0.103000\n",
      "Epoch  9, CIFAR-10 Batch 1:  Loss:     2.3011 Validation Accuracy: 0.103000\n",
      "Epoch 10, CIFAR-10 Batch 1:  Loss:     2.2964 Validation Accuracy: 0.103000\n",
      "Epoch 11, CIFAR-10 Batch 1:  Loss:     2.2906 Validation Accuracy: 0.118800\n",
      "Epoch 12, CIFAR-10 Batch 1:  Loss:     2.2849 Validation Accuracy: 0.161000\n",
      "Epoch 13, CIFAR-10 Batch 1:  Loss:     2.2791 Validation Accuracy: 0.173800\n",
      "Epoch 14, CIFAR-10 Batch 1:  Loss:     2.2700 Validation Accuracy: 0.177000\n",
      "Epoch 15, CIFAR-10 Batch 1:  Loss:     2.2567 Validation Accuracy: 0.183600\n",
      "Epoch 16, CIFAR-10 Batch 1:  Loss:     2.2378 Validation Accuracy: 0.184800\n",
      "Epoch 17, CIFAR-10 Batch 1:  Loss:     2.2130 Validation Accuracy: 0.185600\n",
      "Epoch 18, CIFAR-10 Batch 1:  Loss:     2.1841 Validation Accuracy: 0.200200\n",
      "Epoch 19, CIFAR-10 Batch 1:  Loss:     2.1551 Validation Accuracy: 0.208400\n",
      "Epoch 20, CIFAR-10 Batch 1:  Loss:     2.1298 Validation Accuracy: 0.220400\n",
      "Epoch 21, CIFAR-10 Batch 1:  Loss:     2.1069 Validation Accuracy: 0.227200\n",
      "Epoch 22, CIFAR-10 Batch 1:  Loss:     2.0883 Validation Accuracy: 0.234200\n",
      "Epoch 23, CIFAR-10 Batch 1:  Loss:     2.0697 Validation Accuracy: 0.232000\n",
      "Epoch 24, CIFAR-10 Batch 1:  Loss:     2.0546 Validation Accuracy: 0.241800\n",
      "Epoch 25, CIFAR-10 Batch 1:  Loss:     2.0375 Validation Accuracy: 0.244000\n",
      "Epoch 26, CIFAR-10 Batch 1:  Loss:     2.0200 Validation Accuracy: 0.248400\n",
      "Epoch 27, CIFAR-10 Batch 1:  Loss:     2.0056 Validation Accuracy: 0.252600\n",
      "Epoch 28, CIFAR-10 Batch 1:  Loss:     1.9925 Validation Accuracy: 0.254800\n",
      "Epoch 29, CIFAR-10 Batch 1:  Loss:     1.9794 Validation Accuracy: 0.265000\n",
      "Epoch 30, CIFAR-10 Batch 1:  Loss:     1.9655 Validation Accuracy: 0.265200\n",
      "Epoch 31, CIFAR-10 Batch 1:  Loss:     1.9555 Validation Accuracy: 0.266200\n",
      "Epoch 32, CIFAR-10 Batch 1:  Loss:     1.9459 Validation Accuracy: 0.272000\n",
      "Epoch 33, CIFAR-10 Batch 1:  Loss:     1.9317 Validation Accuracy: 0.280400\n",
      "Epoch 34, CIFAR-10 Batch 1:  Loss:     1.9178 Validation Accuracy: 0.280400\n",
      "Epoch 35, CIFAR-10 Batch 1:  Loss:     1.9055 Validation Accuracy: 0.284400\n",
      "Epoch 36, CIFAR-10 Batch 1:  Loss:     1.8904 Validation Accuracy: 0.296400\n",
      "Epoch 37, CIFAR-10 Batch 1:  Loss:     1.8726 Validation Accuracy: 0.301000\n",
      "Epoch 38, CIFAR-10 Batch 1:  Loss:     1.8584 Validation Accuracy: 0.305600\n",
      "Epoch 39, CIFAR-10 Batch 1:  Loss:     1.8415 Validation Accuracy: 0.314000\n",
      "Epoch 40, CIFAR-10 Batch 1:  Loss:     1.8220 Validation Accuracy: 0.315400\n",
      "Epoch 41, CIFAR-10 Batch 1:  Loss:     1.8041 Validation Accuracy: 0.318600\n",
      "Epoch 42, CIFAR-10 Batch 1:  Loss:     1.7957 Validation Accuracy: 0.325800\n",
      "Epoch 43, CIFAR-10 Batch 1:  Loss:     1.7701 Validation Accuracy: 0.334000\n",
      "Epoch 44, CIFAR-10 Batch 1:  Loss:     1.7530 Validation Accuracy: 0.341200\n",
      "Epoch 45, CIFAR-10 Batch 1:  Loss:     1.7352 Validation Accuracy: 0.342200\n",
      "Epoch 46, CIFAR-10 Batch 1:  Loss:     1.7154 Validation Accuracy: 0.341600\n",
      "Epoch 47, CIFAR-10 Batch 1:  Loss:     1.6993 Validation Accuracy: 0.348200\n",
      "Epoch 48, CIFAR-10 Batch 1:  Loss:     1.6899 Validation Accuracy: 0.353600\n",
      "Epoch 49, CIFAR-10 Batch 1:  Loss:     1.6791 Validation Accuracy: 0.362600\n",
      "Epoch 50, CIFAR-10 Batch 1:  Loss:     1.6644 Validation Accuracy: 0.361600\n",
      "Epoch 51, CIFAR-10 Batch 1:  Loss:     1.6358 Validation Accuracy: 0.369000\n",
      "Epoch 52, CIFAR-10 Batch 1:  Loss:     1.6353 Validation Accuracy: 0.365800\n",
      "Epoch 53, CIFAR-10 Batch 1:  Loss:     1.6127 Validation Accuracy: 0.374200\n",
      "Epoch 54, CIFAR-10 Batch 1:  Loss:     1.6044 Validation Accuracy: 0.374600\n",
      "Epoch 55, CIFAR-10 Batch 1:  Loss:     1.5879 Validation Accuracy: 0.380600\n",
      "Epoch 56, CIFAR-10 Batch 1:  Loss:     1.5868 Validation Accuracy: 0.380600\n",
      "Epoch 57, CIFAR-10 Batch 1:  Loss:     1.5669 Validation Accuracy: 0.385000\n",
      "Epoch 58, CIFAR-10 Batch 1:  Loss:     1.5573 Validation Accuracy: 0.383000\n",
      "Epoch 59, CIFAR-10 Batch 1:  Loss:     1.5449 Validation Accuracy: 0.388200\n",
      "Epoch 60, CIFAR-10 Batch 1:  Loss:     1.5385 Validation Accuracy: 0.388400\n",
      "Epoch 61, CIFAR-10 Batch 1:  Loss:     1.5253 Validation Accuracy: 0.393000\n",
      "Epoch 62, CIFAR-10 Batch 1:  Loss:     1.5134 Validation Accuracy: 0.394600\n",
      "Epoch 63, CIFAR-10 Batch 1:  Loss:     1.5072 Validation Accuracy: 0.396600\n",
      "Epoch 64, CIFAR-10 Batch 1:  Loss:     1.5083 Validation Accuracy: 0.398200\n",
      "Epoch 65, CIFAR-10 Batch 1:  Loss:     1.5044 Validation Accuracy: 0.398000\n",
      "Epoch 66, CIFAR-10 Batch 1:  Loss:     1.5072 Validation Accuracy: 0.395000\n",
      "Epoch 67, CIFAR-10 Batch 1:  Loss:     1.5168 Validation Accuracy: 0.397800\n",
      "Epoch 68, CIFAR-10 Batch 1:  Loss:     1.4903 Validation Accuracy: 0.400000\n",
      "Epoch 69, CIFAR-10 Batch 1:  Loss:     1.4656 Validation Accuracy: 0.402600\n",
      "Epoch 70, CIFAR-10 Batch 1:  Loss:     1.4659 Validation Accuracy: 0.409800\n",
      "Epoch 71, CIFAR-10 Batch 1:  Loss:     1.4508 Validation Accuracy: 0.407400\n",
      "Epoch 72, CIFAR-10 Batch 1:  Loss:     1.4454 Validation Accuracy: 0.409200\n",
      "Epoch 73, CIFAR-10 Batch 1:  Loss:     1.4318 Validation Accuracy: 0.411400\n",
      "Epoch 74, CIFAR-10 Batch 1:  Loss:     1.4342 Validation Accuracy: 0.414600\n",
      "Epoch 75, CIFAR-10 Batch 1:  Loss:     1.4257 Validation Accuracy: 0.413400\n",
      "Epoch 76, CIFAR-10 Batch 1:  Loss:     1.4112 Validation Accuracy: 0.415800\n",
      "Epoch 77, CIFAR-10 Batch 1:  Loss:     1.4048 Validation Accuracy: 0.415400\n",
      "Epoch 78, CIFAR-10 Batch 1:  Loss:     1.3987 Validation Accuracy: 0.421400\n",
      "Epoch 79, CIFAR-10 Batch 1:  Loss:     1.4064 Validation Accuracy: 0.416400\n",
      "Epoch 80, CIFAR-10 Batch 1:  Loss:     1.4012 Validation Accuracy: 0.417000\n",
      "Epoch 81, CIFAR-10 Batch 1:  Loss:     1.4018 Validation Accuracy: 0.413400\n",
      "Epoch 82, CIFAR-10 Batch 1:  Loss:     1.3876 Validation Accuracy: 0.418400\n",
      "Epoch 83, CIFAR-10 Batch 1:  Loss:     1.3722 Validation Accuracy: 0.419800\n",
      "Epoch 84, CIFAR-10 Batch 1:  Loss:     1.3638 Validation Accuracy: 0.423000\n",
      "Epoch 85, CIFAR-10 Batch 1:  Loss:     1.3640 Validation Accuracy: 0.423400\n",
      "Epoch 86, CIFAR-10 Batch 1:  Loss:     1.3549 Validation Accuracy: 0.426000\n",
      "Epoch 87, CIFAR-10 Batch 1:  Loss:     1.3484 Validation Accuracy: 0.428000\n",
      "Epoch 88, CIFAR-10 Batch 1:  Loss:     1.3397 Validation Accuracy: 0.429200\n",
      "Epoch 89, CIFAR-10 Batch 1:  Loss:     1.3288 Validation Accuracy: 0.432400\n",
      "Epoch 90, CIFAR-10 Batch 1:  Loss:     1.3221 Validation Accuracy: 0.432200\n",
      "Epoch 91, CIFAR-10 Batch 1:  Loss:     1.3153 Validation Accuracy: 0.432200\n",
      "Epoch 92, CIFAR-10 Batch 1:  Loss:     1.3119 Validation Accuracy: 0.428800\n",
      "Epoch 93, CIFAR-10 Batch 1:  Loss:     1.2997 Validation Accuracy: 0.433600\n",
      "Epoch 94, CIFAR-10 Batch 1:  Loss:     1.2986 Validation Accuracy: 0.431600\n",
      "Epoch 95, CIFAR-10 Batch 1:  Loss:     1.2970 Validation Accuracy: 0.434400\n",
      "Epoch 96, CIFAR-10 Batch 1:  Loss:     1.2838 Validation Accuracy: 0.435800\n",
      "Epoch 97, CIFAR-10 Batch 1:  Loss:     1.2766 Validation Accuracy: 0.436800\n",
      "Epoch 98, CIFAR-10 Batch 1:  Loss:     1.2721 Validation Accuracy: 0.438000\n",
      "Epoch 99, CIFAR-10 Batch 1:  Loss:     1.2662 Validation Accuracy: 0.438200\n",
      "Epoch 100, CIFAR-10 Batch 1:  Loss:     1.2679 Validation Accuracy: 0.438200\n"
     ]
    }
   ],
   "source": [
    "\"\"\"\n",
    "DON'T MODIFY ANYTHING IN THIS CELL\n",
    "\"\"\"\n",
    "print('Checking the Training on a Single Batch...')\n",
    "with tf.Session(config=tf.ConfigProto(log_device_placement=True)) as sess:\n",
    "    # Initializing the variables\n",
    "    sess.run(tf.global_variables_initializer())\n",
    "    \n",
    "    # Training cycle\n",
    "    for epoch in range(epochs):\n",
    "        batch_i = 1\n",
    "        for batch_features, batch_labels in helper.load_preprocess_training_batch(batch_i, batch_size):\n",
    "            train_neural_network(sess, optimizer, keep_probability, batch_features, batch_labels)\n",
    "        print('Epoch {:>2}, CIFAR-10 Batch {}:  '.format(epoch + 1, batch_i), end='')\n",
    "        print_stats(sess, batch_features, batch_labels, cost, accuracy)"
   ]
  },
  {
   "cell_type": "markdown",
   "metadata": {
    "deletable": true,
    "editable": true
   },
   "source": [
    "### Fully Train the Model\n",
    "Now that you got a good accuracy with a single CIFAR-10 batch, try it with all five batches."
   ]
  },
  {
   "cell_type": "code",
   "execution_count": 122,
   "metadata": {
    "collapsed": false,
    "deletable": true,
    "editable": true,
    "scrolled": true
   },
   "outputs": [
    {
     "name": "stdout",
     "output_type": "stream",
     "text": [
      "Training...\n",
      "Epoch  1, CIFAR-10 Batch 1:  Loss:     2.4694 Validation Accuracy: 0.106800\n",
      "Epoch  1, CIFAR-10 Batch 2:  Loss:     2.3270 Validation Accuracy: 0.111600\n",
      "Epoch  1, CIFAR-10 Batch 3:  Loss:     2.3008 Validation Accuracy: 0.106800\n",
      "Epoch  1, CIFAR-10 Batch 4:  Loss:     2.3454 Validation Accuracy: 0.106800\n",
      "Epoch  1, CIFAR-10 Batch 5:  Loss:     2.3707 Validation Accuracy: 0.106800\n",
      "Epoch  2, CIFAR-10 Batch 1:  Loss:     2.3276 Validation Accuracy: 0.106800\n",
      "Epoch  2, CIFAR-10 Batch 2:  Loss:     2.3030 Validation Accuracy: 0.115800\n",
      "Epoch  2, CIFAR-10 Batch 3:  Loss:     2.3044 Validation Accuracy: 0.106800\n",
      "Epoch  2, CIFAR-10 Batch 4:  Loss:     2.3112 Validation Accuracy: 0.106800\n",
      "Epoch  2, CIFAR-10 Batch 5:  Loss:     2.3266 Validation Accuracy: 0.106800\n",
      "Epoch  3, CIFAR-10 Batch 1:  Loss:     2.3152 Validation Accuracy: 0.094800\n",
      "Epoch  3, CIFAR-10 Batch 2:  Loss:     2.2957 Validation Accuracy: 0.112800\n",
      "Epoch  3, CIFAR-10 Batch 3:  Loss:     2.2966 Validation Accuracy: 0.094200\n",
      "Epoch  3, CIFAR-10 Batch 4:  Loss:     2.2988 Validation Accuracy: 0.109400\n",
      "Epoch  3, CIFAR-10 Batch 5:  Loss:     2.3076 Validation Accuracy: 0.106800\n",
      "Epoch  4, CIFAR-10 Batch 1:  Loss:     2.2910 Validation Accuracy: 0.151400\n",
      "Epoch  4, CIFAR-10 Batch 2:  Loss:     2.2824 Validation Accuracy: 0.174800\n",
      "Epoch  4, CIFAR-10 Batch 3:  Loss:     2.2838 Validation Accuracy: 0.187800\n",
      "Epoch  4, CIFAR-10 Batch 4:  Loss:     2.2717 Validation Accuracy: 0.155000\n",
      "Epoch  4, CIFAR-10 Batch 5:  Loss:     2.2583 Validation Accuracy: 0.184800\n",
      "Epoch  5, CIFAR-10 Batch 1:  Loss:     2.2425 Validation Accuracy: 0.200600\n",
      "Epoch  5, CIFAR-10 Batch 2:  Loss:     2.2160 Validation Accuracy: 0.201000\n",
      "Epoch  5, CIFAR-10 Batch 3:  Loss:     2.2006 Validation Accuracy: 0.210400\n",
      "Epoch  5, CIFAR-10 Batch 4:  Loss:     2.1511 Validation Accuracy: 0.204200\n",
      "Epoch  5, CIFAR-10 Batch 5:  Loss:     2.1161 Validation Accuracy: 0.208000\n",
      "Epoch  6, CIFAR-10 Batch 1:  Loss:     2.1259 Validation Accuracy: 0.214000\n",
      "Epoch  6, CIFAR-10 Batch 2:  Loss:     2.0782 Validation Accuracy: 0.222600\n",
      "Epoch  6, CIFAR-10 Batch 3:  Loss:     2.0623 Validation Accuracy: 0.235400\n",
      "Epoch  6, CIFAR-10 Batch 4:  Loss:     2.0161 Validation Accuracy: 0.241000\n",
      "Epoch  6, CIFAR-10 Batch 5:  Loss:     2.0015 Validation Accuracy: 0.243400\n",
      "Epoch  7, CIFAR-10 Batch 1:  Loss:     2.0383 Validation Accuracy: 0.248800\n",
      "Epoch  7, CIFAR-10 Batch 2:  Loss:     1.9886 Validation Accuracy: 0.259600\n",
      "Epoch  7, CIFAR-10 Batch 3:  Loss:     1.9941 Validation Accuracy: 0.266400\n",
      "Epoch  7, CIFAR-10 Batch 4:  Loss:     1.9525 Validation Accuracy: 0.259800\n",
      "Epoch  7, CIFAR-10 Batch 5:  Loss:     1.9364 Validation Accuracy: 0.268200\n",
      "Epoch  8, CIFAR-10 Batch 1:  Loss:     1.9805 Validation Accuracy: 0.274400\n",
      "Epoch  8, CIFAR-10 Batch 2:  Loss:     1.9517 Validation Accuracy: 0.279400\n",
      "Epoch  8, CIFAR-10 Batch 3:  Loss:     1.9422 Validation Accuracy: 0.286800\n",
      "Epoch  8, CIFAR-10 Batch 4:  Loss:     1.9178 Validation Accuracy: 0.276800\n",
      "Epoch  8, CIFAR-10 Batch 5:  Loss:     1.9067 Validation Accuracy: 0.291600\n",
      "Epoch  9, CIFAR-10 Batch 1:  Loss:     1.9345 Validation Accuracy: 0.289600\n",
      "Epoch  9, CIFAR-10 Batch 2:  Loss:     1.9029 Validation Accuracy: 0.300600\n",
      "Epoch  9, CIFAR-10 Batch 3:  Loss:     1.8934 Validation Accuracy: 0.304000\n",
      "Epoch  9, CIFAR-10 Batch 4:  Loss:     1.8761 Validation Accuracy: 0.298800\n",
      "Epoch  9, CIFAR-10 Batch 5:  Loss:     1.8709 Validation Accuracy: 0.313600\n",
      "Epoch 10, CIFAR-10 Batch 1:  Loss:     1.8931 Validation Accuracy: 0.303400\n",
      "Epoch 10, CIFAR-10 Batch 2:  Loss:     1.8652 Validation Accuracy: 0.314400\n",
      "Epoch 10, CIFAR-10 Batch 3:  Loss:     1.8570 Validation Accuracy: 0.317200\n",
      "Epoch 10, CIFAR-10 Batch 4:  Loss:     1.8330 Validation Accuracy: 0.322600\n",
      "Epoch 10, CIFAR-10 Batch 5:  Loss:     1.8209 Validation Accuracy: 0.327400\n",
      "Epoch 11, CIFAR-10 Batch 1:  Loss:     1.8360 Validation Accuracy: 0.332000\n",
      "Epoch 11, CIFAR-10 Batch 2:  Loss:     1.8160 Validation Accuracy: 0.337200\n",
      "Epoch 11, CIFAR-10 Batch 3:  Loss:     1.7863 Validation Accuracy: 0.340400\n",
      "Epoch 11, CIFAR-10 Batch 4:  Loss:     1.7814 Validation Accuracy: 0.343800\n",
      "Epoch 11, CIFAR-10 Batch 5:  Loss:     1.7743 Validation Accuracy: 0.344000\n",
      "Epoch 12, CIFAR-10 Batch 1:  Loss:     1.7824 Validation Accuracy: 0.345800\n",
      "Epoch 12, CIFAR-10 Batch 2:  Loss:     1.7647 Validation Accuracy: 0.360800\n",
      "Epoch 12, CIFAR-10 Batch 3:  Loss:     1.7279 Validation Accuracy: 0.357200\n",
      "Epoch 12, CIFAR-10 Batch 4:  Loss:     1.7315 Validation Accuracy: 0.364200\n",
      "Epoch 12, CIFAR-10 Batch 5:  Loss:     1.7380 Validation Accuracy: 0.361800\n",
      "Epoch 13, CIFAR-10 Batch 1:  Loss:     1.7168 Validation Accuracy: 0.361600\n",
      "Epoch 13, CIFAR-10 Batch 2:  Loss:     1.7148 Validation Accuracy: 0.378800\n",
      "Epoch 13, CIFAR-10 Batch 3:  Loss:     1.6633 Validation Accuracy: 0.378000\n",
      "Epoch 13, CIFAR-10 Batch 4:  Loss:     1.6735 Validation Accuracy: 0.372800\n",
      "Epoch 13, CIFAR-10 Batch 5:  Loss:     1.6990 Validation Accuracy: 0.384200\n",
      "Epoch 14, CIFAR-10 Batch 1:  Loss:     1.6771 Validation Accuracy: 0.379400\n",
      "Epoch 14, CIFAR-10 Batch 2:  Loss:     1.6781 Validation Accuracy: 0.389800\n",
      "Epoch 14, CIFAR-10 Batch 3:  Loss:     1.6225 Validation Accuracy: 0.389600\n",
      "Epoch 14, CIFAR-10 Batch 4:  Loss:     1.6327 Validation Accuracy: 0.391000\n",
      "Epoch 14, CIFAR-10 Batch 5:  Loss:     1.6739 Validation Accuracy: 0.394000\n",
      "Epoch 15, CIFAR-10 Batch 1:  Loss:     1.6474 Validation Accuracy: 0.392200\n",
      "Epoch 15, CIFAR-10 Batch 2:  Loss:     1.6521 Validation Accuracy: 0.396800\n",
      "Epoch 15, CIFAR-10 Batch 3:  Loss:     1.5847 Validation Accuracy: 0.394600\n",
      "Epoch 15, CIFAR-10 Batch 4:  Loss:     1.6043 Validation Accuracy: 0.399000\n",
      "Epoch 15, CIFAR-10 Batch 5:  Loss:     1.6436 Validation Accuracy: 0.402200\n",
      "Epoch 16, CIFAR-10 Batch 1:  Loss:     1.6209 Validation Accuracy: 0.398200\n",
      "Epoch 16, CIFAR-10 Batch 2:  Loss:     1.6369 Validation Accuracy: 0.402000\n",
      "Epoch 16, CIFAR-10 Batch 3:  Loss:     1.5739 Validation Accuracy: 0.398400\n",
      "Epoch 16, CIFAR-10 Batch 4:  Loss:     1.5975 Validation Accuracy: 0.391600\n",
      "Epoch 16, CIFAR-10 Batch 5:  Loss:     1.6325 Validation Accuracy: 0.407400\n",
      "Epoch 17, CIFAR-10 Batch 1:  Loss:     1.6006 Validation Accuracy: 0.411000\n",
      "Epoch 17, CIFAR-10 Batch 2:  Loss:     1.6152 Validation Accuracy: 0.408200\n",
      "Epoch 17, CIFAR-10 Batch 3:  Loss:     1.5373 Validation Accuracy: 0.412600\n",
      "Epoch 17, CIFAR-10 Batch 4:  Loss:     1.5671 Validation Accuracy: 0.407000\n",
      "Epoch 17, CIFAR-10 Batch 5:  Loss:     1.6071 Validation Accuracy: 0.412000\n",
      "Epoch 18, CIFAR-10 Batch 1:  Loss:     1.5852 Validation Accuracy: 0.416000\n",
      "Epoch 18, CIFAR-10 Batch 2:  Loss:     1.5905 Validation Accuracy: 0.408200\n",
      "Epoch 18, CIFAR-10 Batch 3:  Loss:     1.5198 Validation Accuracy: 0.415600\n",
      "Epoch 18, CIFAR-10 Batch 4:  Loss:     1.5460 Validation Accuracy: 0.419600\n",
      "Epoch 18, CIFAR-10 Batch 5:  Loss:     1.5843 Validation Accuracy: 0.418400\n",
      "Epoch 19, CIFAR-10 Batch 1:  Loss:     1.5552 Validation Accuracy: 0.416600\n",
      "Epoch 19, CIFAR-10 Batch 2:  Loss:     1.5810 Validation Accuracy: 0.419800\n",
      "Epoch 19, CIFAR-10 Batch 3:  Loss:     1.5052 Validation Accuracy: 0.421800\n",
      "Epoch 19, CIFAR-10 Batch 4:  Loss:     1.5353 Validation Accuracy: 0.419200\n",
      "Epoch 19, CIFAR-10 Batch 5:  Loss:     1.5679 Validation Accuracy: 0.420000\n",
      "Epoch 20, CIFAR-10 Batch 1:  Loss:     1.5401 Validation Accuracy: 0.426200\n",
      "Epoch 20, CIFAR-10 Batch 2:  Loss:     1.5627 Validation Accuracy: 0.424200\n",
      "Epoch 20, CIFAR-10 Batch 3:  Loss:     1.4893 Validation Accuracy: 0.424000\n",
      "Epoch 20, CIFAR-10 Batch 4:  Loss:     1.5105 Validation Accuracy: 0.425800\n",
      "Epoch 20, CIFAR-10 Batch 5:  Loss:     1.5478 Validation Accuracy: 0.425800\n",
      "Epoch 21, CIFAR-10 Batch 1:  Loss:     1.5100 Validation Accuracy: 0.426600\n",
      "Epoch 21, CIFAR-10 Batch 2:  Loss:     1.5416 Validation Accuracy: 0.429400\n",
      "Epoch 21, CIFAR-10 Batch 3:  Loss:     1.4647 Validation Accuracy: 0.427600\n",
      "Epoch 21, CIFAR-10 Batch 4:  Loss:     1.4974 Validation Accuracy: 0.429400\n",
      "Epoch 21, CIFAR-10 Batch 5:  Loss:     1.5360 Validation Accuracy: 0.430600\n",
      "Epoch 22, CIFAR-10 Batch 1:  Loss:     1.5082 Validation Accuracy: 0.432400\n",
      "Epoch 22, CIFAR-10 Batch 2:  Loss:     1.5329 Validation Accuracy: 0.426000\n",
      "Epoch 22, CIFAR-10 Batch 3:  Loss:     1.4509 Validation Accuracy: 0.432000\n",
      "Epoch 22, CIFAR-10 Batch 4:  Loss:     1.4804 Validation Accuracy: 0.436200\n",
      "Epoch 22, CIFAR-10 Batch 5:  Loss:     1.5137 Validation Accuracy: 0.436600\n",
      "Epoch 23, CIFAR-10 Batch 1:  Loss:     1.4800 Validation Accuracy: 0.435200\n",
      "Epoch 23, CIFAR-10 Batch 2:  Loss:     1.5109 Validation Accuracy: 0.437200\n",
      "Epoch 23, CIFAR-10 Batch 3:  Loss:     1.4303 Validation Accuracy: 0.435600\n",
      "Epoch 23, CIFAR-10 Batch 4:  Loss:     1.4716 Validation Accuracy: 0.437200\n",
      "Epoch 23, CIFAR-10 Batch 5:  Loss:     1.5025 Validation Accuracy: 0.433200\n",
      "Epoch 24, CIFAR-10 Batch 1:  Loss:     1.4792 Validation Accuracy: 0.435800\n",
      "Epoch 24, CIFAR-10 Batch 2:  Loss:     1.5040 Validation Accuracy: 0.434000\n",
      "Epoch 24, CIFAR-10 Batch 3:  Loss:     1.4176 Validation Accuracy: 0.441400\n",
      "Epoch 24, CIFAR-10 Batch 4:  Loss:     1.4683 Validation Accuracy: 0.442600\n",
      "Epoch 24, CIFAR-10 Batch 5:  Loss:     1.4891 Validation Accuracy: 0.443800\n",
      "Epoch 25, CIFAR-10 Batch 1:  Loss:     1.4577 Validation Accuracy: 0.440200\n",
      "Epoch 25, CIFAR-10 Batch 2:  Loss:     1.4900 Validation Accuracy: 0.443600\n",
      "Epoch 25, CIFAR-10 Batch 3:  Loss:     1.3970 Validation Accuracy: 0.444600\n",
      "Epoch 25, CIFAR-10 Batch 4:  Loss:     1.4518 Validation Accuracy: 0.441400\n",
      "Epoch 25, CIFAR-10 Batch 5:  Loss:     1.4686 Validation Accuracy: 0.443400\n",
      "Epoch 26, CIFAR-10 Batch 1:  Loss:     1.4413 Validation Accuracy: 0.442000\n",
      "Epoch 26, CIFAR-10 Batch 2:  Loss:     1.4817 Validation Accuracy: 0.441600\n",
      "Epoch 26, CIFAR-10 Batch 3:  Loss:     1.3913 Validation Accuracy: 0.447000\n",
      "Epoch 26, CIFAR-10 Batch 4:  Loss:     1.4405 Validation Accuracy: 0.448600\n",
      "Epoch 26, CIFAR-10 Batch 5:  Loss:     1.4645 Validation Accuracy: 0.449800\n",
      "Epoch 27, CIFAR-10 Batch 1:  Loss:     1.4461 Validation Accuracy: 0.440800\n",
      "Epoch 27, CIFAR-10 Batch 2:  Loss:     1.4603 Validation Accuracy: 0.452200\n",
      "Epoch 27, CIFAR-10 Batch 3:  Loss:     1.3728 Validation Accuracy: 0.452000\n",
      "Epoch 27, CIFAR-10 Batch 4:  Loss:     1.4113 Validation Accuracy: 0.452600\n",
      "Epoch 27, CIFAR-10 Batch 5:  Loss:     1.4510 Validation Accuracy: 0.451400\n",
      "Epoch 28, CIFAR-10 Batch 1:  Loss:     1.4116 Validation Accuracy: 0.456400\n",
      "Epoch 28, CIFAR-10 Batch 2:  Loss:     1.4514 Validation Accuracy: 0.456600\n",
      "Epoch 28, CIFAR-10 Batch 3:  Loss:     1.3646 Validation Accuracy: 0.454000\n",
      "Epoch 28, CIFAR-10 Batch 4:  Loss:     1.4037 Validation Accuracy: 0.454200\n",
      "Epoch 28, CIFAR-10 Batch 5:  Loss:     1.4348 Validation Accuracy: 0.462000\n",
      "Epoch 29, CIFAR-10 Batch 1:  Loss:     1.3925 Validation Accuracy: 0.459400\n",
      "Epoch 29, CIFAR-10 Batch 2:  Loss:     1.4302 Validation Accuracy: 0.461400\n",
      "Epoch 29, CIFAR-10 Batch 3:  Loss:     1.3543 Validation Accuracy: 0.461600\n",
      "Epoch 29, CIFAR-10 Batch 4:  Loss:     1.4028 Validation Accuracy: 0.452000\n",
      "Epoch 29, CIFAR-10 Batch 5:  Loss:     1.4281 Validation Accuracy: 0.456800\n",
      "Epoch 30, CIFAR-10 Batch 1:  Loss:     1.4086 Validation Accuracy: 0.453400\n",
      "Epoch 30, CIFAR-10 Batch 2:  Loss:     1.4146 Validation Accuracy: 0.464400\n",
      "Epoch 30, CIFAR-10 Batch 3:  Loss:     1.3454 Validation Accuracy: 0.462200\n",
      "Epoch 30, CIFAR-10 Batch 4:  Loss:     1.3856 Validation Accuracy: 0.460200\n",
      "Epoch 30, CIFAR-10 Batch 5:  Loss:     1.4228 Validation Accuracy: 0.466600\n",
      "Epoch 31, CIFAR-10 Batch 1:  Loss:     1.4069 Validation Accuracy: 0.454000\n",
      "Epoch 31, CIFAR-10 Batch 2:  Loss:     1.4144 Validation Accuracy: 0.465200\n",
      "Epoch 31, CIFAR-10 Batch 3:  Loss:     1.3268 Validation Accuracy: 0.463000\n",
      "Epoch 31, CIFAR-10 Batch 4:  Loss:     1.3656 Validation Accuracy: 0.466200\n",
      "Epoch 31, CIFAR-10 Batch 5:  Loss:     1.4038 Validation Accuracy: 0.465600\n",
      "Epoch 32, CIFAR-10 Batch 1:  Loss:     1.3640 Validation Accuracy: 0.469800\n",
      "Epoch 32, CIFAR-10 Batch 2:  Loss:     1.4030 Validation Accuracy: 0.467400\n",
      "Epoch 32, CIFAR-10 Batch 3:  Loss:     1.3135 Validation Accuracy: 0.471400\n",
      "Epoch 32, CIFAR-10 Batch 4:  Loss:     1.3582 Validation Accuracy: 0.465200\n",
      "Epoch 32, CIFAR-10 Batch 5:  Loss:     1.3899 Validation Accuracy: 0.472600\n",
      "Epoch 33, CIFAR-10 Batch 1:  Loss:     1.3594 Validation Accuracy: 0.470200\n",
      "Epoch 33, CIFAR-10 Batch 2:  Loss:     1.3897 Validation Accuracy: 0.477200\n",
      "Epoch 33, CIFAR-10 Batch 3:  Loss:     1.3135 Validation Accuracy: 0.470000\n",
      "Epoch 33, CIFAR-10 Batch 4:  Loss:     1.3530 Validation Accuracy: 0.468200\n",
      "Epoch 33, CIFAR-10 Batch 5:  Loss:     1.3719 Validation Accuracy: 0.475000\n",
      "Epoch 34, CIFAR-10 Batch 1:  Loss:     1.3613 Validation Accuracy: 0.475200\n",
      "Epoch 34, CIFAR-10 Batch 2:  Loss:     1.3876 Validation Accuracy: 0.475800\n",
      "Epoch 34, CIFAR-10 Batch 3:  Loss:     1.2941 Validation Accuracy: 0.473200\n",
      "Epoch 34, CIFAR-10 Batch 4:  Loss:     1.3420 Validation Accuracy: 0.475000\n",
      "Epoch 34, CIFAR-10 Batch 5:  Loss:     1.3568 Validation Accuracy: 0.479200\n",
      "Epoch 35, CIFAR-10 Batch 1:  Loss:     1.3515 Validation Accuracy: 0.481000\n",
      "Epoch 35, CIFAR-10 Batch 2:  Loss:     1.3738 Validation Accuracy: 0.483200\n",
      "Epoch 35, CIFAR-10 Batch 3:  Loss:     1.2924 Validation Accuracy: 0.476600\n",
      "Epoch 35, CIFAR-10 Batch 4:  Loss:     1.3291 Validation Accuracy: 0.476000\n",
      "Epoch 35, CIFAR-10 Batch 5:  Loss:     1.3581 Validation Accuracy: 0.483400\n",
      "Epoch 36, CIFAR-10 Batch 1:  Loss:     1.3431 Validation Accuracy: 0.485200\n",
      "Epoch 36, CIFAR-10 Batch 2:  Loss:     1.3563 Validation Accuracy: 0.484800\n",
      "Epoch 36, CIFAR-10 Batch 3:  Loss:     1.2799 Validation Accuracy: 0.476800\n",
      "Epoch 36, CIFAR-10 Batch 4:  Loss:     1.3057 Validation Accuracy: 0.483600\n",
      "Epoch 36, CIFAR-10 Batch 5:  Loss:     1.3557 Validation Accuracy: 0.484000\n",
      "Epoch 37, CIFAR-10 Batch 1:  Loss:     1.3192 Validation Accuracy: 0.488000\n",
      "Epoch 37, CIFAR-10 Batch 2:  Loss:     1.3610 Validation Accuracy: 0.485600\n",
      "Epoch 37, CIFAR-10 Batch 3:  Loss:     1.2758 Validation Accuracy: 0.481000\n",
      "Epoch 37, CIFAR-10 Batch 4:  Loss:     1.3181 Validation Accuracy: 0.480000\n",
      "Epoch 37, CIFAR-10 Batch 5:  Loss:     1.3451 Validation Accuracy: 0.477400\n",
      "Epoch 38, CIFAR-10 Batch 1:  Loss:     1.3215 Validation Accuracy: 0.490000\n",
      "Epoch 38, CIFAR-10 Batch 2:  Loss:     1.3399 Validation Accuracy: 0.491600\n",
      "Epoch 38, CIFAR-10 Batch 3:  Loss:     1.2622 Validation Accuracy: 0.482200\n",
      "Epoch 38, CIFAR-10 Batch 4:  Loss:     1.3008 Validation Accuracy: 0.482600\n",
      "Epoch 38, CIFAR-10 Batch 5:  Loss:     1.3346 Validation Accuracy: 0.482400\n",
      "Epoch 39, CIFAR-10 Batch 1:  Loss:     1.3020 Validation Accuracy: 0.490000\n",
      "Epoch 39, CIFAR-10 Batch 2:  Loss:     1.3328 Validation Accuracy: 0.494600\n",
      "Epoch 39, CIFAR-10 Batch 3:  Loss:     1.2476 Validation Accuracy: 0.489200\n",
      "Epoch 39, CIFAR-10 Batch 4:  Loss:     1.2899 Validation Accuracy: 0.481000\n",
      "Epoch 39, CIFAR-10 Batch 5:  Loss:     1.3085 Validation Accuracy: 0.492800\n",
      "Epoch 40, CIFAR-10 Batch 1:  Loss:     1.2913 Validation Accuracy: 0.497600\n",
      "Epoch 40, CIFAR-10 Batch 2:  Loss:     1.3254 Validation Accuracy: 0.492200\n",
      "Epoch 40, CIFAR-10 Batch 3:  Loss:     1.2398 Validation Accuracy: 0.490200\n",
      "Epoch 40, CIFAR-10 Batch 4:  Loss:     1.2760 Validation Accuracy: 0.489600\n",
      "Epoch 40, CIFAR-10 Batch 5:  Loss:     1.2992 Validation Accuracy: 0.489800\n",
      "Epoch 41, CIFAR-10 Batch 1:  Loss:     1.2853 Validation Accuracy: 0.491000\n",
      "Epoch 41, CIFAR-10 Batch 2:  Loss:     1.3062 Validation Accuracy: 0.500400\n",
      "Epoch 41, CIFAR-10 Batch 3:  Loss:     1.2307 Validation Accuracy: 0.495400\n",
      "Epoch 41, CIFAR-10 Batch 4:  Loss:     1.2668 Validation Accuracy: 0.491000\n",
      "Epoch 41, CIFAR-10 Batch 5:  Loss:     1.2855 Validation Accuracy: 0.492800\n",
      "Epoch 42, CIFAR-10 Batch 1:  Loss:     1.2810 Validation Accuracy: 0.499200\n",
      "Epoch 42, CIFAR-10 Batch 2:  Loss:     1.3134 Validation Accuracy: 0.496000\n",
      "Epoch 42, CIFAR-10 Batch 3:  Loss:     1.2252 Validation Accuracy: 0.497200\n",
      "Epoch 42, CIFAR-10 Batch 4:  Loss:     1.2693 Validation Accuracy: 0.486000\n",
      "Epoch 42, CIFAR-10 Batch 5:  Loss:     1.2809 Validation Accuracy: 0.498400\n",
      "Epoch 43, CIFAR-10 Batch 1:  Loss:     1.2758 Validation Accuracy: 0.498800\n",
      "Epoch 43, CIFAR-10 Batch 2:  Loss:     1.2981 Validation Accuracy: 0.503600\n",
      "Epoch 43, CIFAR-10 Batch 3:  Loss:     1.2143 Validation Accuracy: 0.496800\n",
      "Epoch 43, CIFAR-10 Batch 4:  Loss:     1.2407 Validation Accuracy: 0.496000\n",
      "Epoch 43, CIFAR-10 Batch 5:  Loss:     1.2714 Validation Accuracy: 0.497600\n",
      "Epoch 44, CIFAR-10 Batch 1:  Loss:     1.2626 Validation Accuracy: 0.498800\n",
      "Epoch 44, CIFAR-10 Batch 2:  Loss:     1.2903 Validation Accuracy: 0.505400\n",
      "Epoch 44, CIFAR-10 Batch 3:  Loss:     1.2051 Validation Accuracy: 0.497400\n",
      "Epoch 44, CIFAR-10 Batch 4:  Loss:     1.2437 Validation Accuracy: 0.497800\n",
      "Epoch 44, CIFAR-10 Batch 5:  Loss:     1.2645 Validation Accuracy: 0.501000\n",
      "Epoch 45, CIFAR-10 Batch 1:  Loss:     1.2573 Validation Accuracy: 0.502400\n",
      "Epoch 45, CIFAR-10 Batch 2:  Loss:     1.2817 Validation Accuracy: 0.502000\n",
      "Epoch 45, CIFAR-10 Batch 3:  Loss:     1.1938 Validation Accuracy: 0.502400\n",
      "Epoch 45, CIFAR-10 Batch 4:  Loss:     1.2165 Validation Accuracy: 0.501600\n",
      "Epoch 45, CIFAR-10 Batch 5:  Loss:     1.2493 Validation Accuracy: 0.503600\n",
      "Epoch 46, CIFAR-10 Batch 1:  Loss:     1.2531 Validation Accuracy: 0.504200\n",
      "Epoch 46, CIFAR-10 Batch 2:  Loss:     1.2780 Validation Accuracy: 0.504600\n",
      "Epoch 46, CIFAR-10 Batch 3:  Loss:     1.1926 Validation Accuracy: 0.506200\n",
      "Epoch 46, CIFAR-10 Batch 4:  Loss:     1.2169 Validation Accuracy: 0.501400\n",
      "Epoch 46, CIFAR-10 Batch 5:  Loss:     1.2443 Validation Accuracy: 0.499200\n",
      "Epoch 47, CIFAR-10 Batch 1:  Loss:     1.2408 Validation Accuracy: 0.504200\n",
      "Epoch 47, CIFAR-10 Batch 2:  Loss:     1.2693 Validation Accuracy: 0.513000\n",
      "Epoch 47, CIFAR-10 Batch 3:  Loss:     1.1893 Validation Accuracy: 0.503000\n",
      "Epoch 47, CIFAR-10 Batch 4:  Loss:     1.2106 Validation Accuracy: 0.499800\n",
      "Epoch 47, CIFAR-10 Batch 5:  Loss:     1.2397 Validation Accuracy: 0.502400\n",
      "Epoch 48, CIFAR-10 Batch 1:  Loss:     1.2452 Validation Accuracy: 0.506000\n",
      "Epoch 48, CIFAR-10 Batch 2:  Loss:     1.2570 Validation Accuracy: 0.501000\n",
      "Epoch 48, CIFAR-10 Batch 3:  Loss:     1.1856 Validation Accuracy: 0.503200\n",
      "Epoch 48, CIFAR-10 Batch 4:  Loss:     1.1971 Validation Accuracy: 0.501000\n",
      "Epoch 48, CIFAR-10 Batch 5:  Loss:     1.2313 Validation Accuracy: 0.509000\n",
      "Epoch 49, CIFAR-10 Batch 1:  Loss:     1.2324 Validation Accuracy: 0.515800\n",
      "Epoch 49, CIFAR-10 Batch 2:  Loss:     1.2562 Validation Accuracy: 0.503800\n",
      "Epoch 49, CIFAR-10 Batch 3:  Loss:     1.1686 Validation Accuracy: 0.505600\n",
      "Epoch 49, CIFAR-10 Batch 4:  Loss:     1.1889 Validation Accuracy: 0.498200\n",
      "Epoch 49, CIFAR-10 Batch 5:  Loss:     1.2336 Validation Accuracy: 0.506400\n",
      "Epoch 50, CIFAR-10 Batch 1:  Loss:     1.2391 Validation Accuracy: 0.504800\n",
      "Epoch 50, CIFAR-10 Batch 2:  Loss:     1.2469 Validation Accuracy: 0.510600\n",
      "Epoch 50, CIFAR-10 Batch 3:  Loss:     1.1673 Validation Accuracy: 0.505600\n",
      "Epoch 50, CIFAR-10 Batch 4:  Loss:     1.1716 Validation Accuracy: 0.509200\n",
      "Epoch 50, CIFAR-10 Batch 5:  Loss:     1.2237 Validation Accuracy: 0.511200\n",
      "Epoch 51, CIFAR-10 Batch 1:  Loss:     1.2166 Validation Accuracy: 0.508800\n",
      "Epoch 51, CIFAR-10 Batch 2:  Loss:     1.2363 Validation Accuracy: 0.509400\n",
      "Epoch 51, CIFAR-10 Batch 3:  Loss:     1.1547 Validation Accuracy: 0.511600\n",
      "Epoch 51, CIFAR-10 Batch 4:  Loss:     1.1735 Validation Accuracy: 0.511600\n",
      "Epoch 51, CIFAR-10 Batch 5:  Loss:     1.2135 Validation Accuracy: 0.510600\n",
      "Epoch 52, CIFAR-10 Batch 1:  Loss:     1.2135 Validation Accuracy: 0.509600\n",
      "Epoch 52, CIFAR-10 Batch 2:  Loss:     1.2355 Validation Accuracy: 0.513400\n",
      "Epoch 52, CIFAR-10 Batch 3:  Loss:     1.1510 Validation Accuracy: 0.514000\n",
      "Epoch 52, CIFAR-10 Batch 4:  Loss:     1.1588 Validation Accuracy: 0.509800\n",
      "Epoch 52, CIFAR-10 Batch 5:  Loss:     1.2012 Validation Accuracy: 0.511800\n",
      "Epoch 53, CIFAR-10 Batch 1:  Loss:     1.2149 Validation Accuracy: 0.512800\n",
      "Epoch 53, CIFAR-10 Batch 2:  Loss:     1.2239 Validation Accuracy: 0.515200\n",
      "Epoch 53, CIFAR-10 Batch 3:  Loss:     1.1421 Validation Accuracy: 0.514000\n",
      "Epoch 53, CIFAR-10 Batch 4:  Loss:     1.1512 Validation Accuracy: 0.508400\n",
      "Epoch 53, CIFAR-10 Batch 5:  Loss:     1.2045 Validation Accuracy: 0.515000\n",
      "Epoch 54, CIFAR-10 Batch 1:  Loss:     1.1914 Validation Accuracy: 0.509600\n",
      "Epoch 54, CIFAR-10 Batch 2:  Loss:     1.2280 Validation Accuracy: 0.511800\n",
      "Epoch 54, CIFAR-10 Batch 3:  Loss:     1.1386 Validation Accuracy: 0.509800\n",
      "Epoch 54, CIFAR-10 Batch 4:  Loss:     1.1421 Validation Accuracy: 0.511000\n",
      "Epoch 54, CIFAR-10 Batch 5:  Loss:     1.1817 Validation Accuracy: 0.516400\n",
      "Epoch 55, CIFAR-10 Batch 1:  Loss:     1.1980 Validation Accuracy: 0.513200\n",
      "Epoch 55, CIFAR-10 Batch 2:  Loss:     1.2098 Validation Accuracy: 0.515400\n",
      "Epoch 55, CIFAR-10 Batch 3:  Loss:     1.1325 Validation Accuracy: 0.515600\n",
      "Epoch 55, CIFAR-10 Batch 4:  Loss:     1.1480 Validation Accuracy: 0.512600\n",
      "Epoch 55, CIFAR-10 Batch 5:  Loss:     1.1629 Validation Accuracy: 0.516800\n",
      "Epoch 56, CIFAR-10 Batch 1:  Loss:     1.1871 Validation Accuracy: 0.518000\n",
      "Epoch 56, CIFAR-10 Batch 2:  Loss:     1.2130 Validation Accuracy: 0.508000\n",
      "Epoch 56, CIFAR-10 Batch 3:  Loss:     1.1235 Validation Accuracy: 0.511800\n",
      "Epoch 56, CIFAR-10 Batch 4:  Loss:     1.1416 Validation Accuracy: 0.507800\n",
      "Epoch 56, CIFAR-10 Batch 5:  Loss:     1.1719 Validation Accuracy: 0.517400\n",
      "Epoch 57, CIFAR-10 Batch 1:  Loss:     1.1929 Validation Accuracy: 0.512000\n",
      "Epoch 57, CIFAR-10 Batch 2:  Loss:     1.2139 Validation Accuracy: 0.511600\n",
      "Epoch 57, CIFAR-10 Batch 3:  Loss:     1.1323 Validation Accuracy: 0.512200\n",
      "Epoch 57, CIFAR-10 Batch 4:  Loss:     1.1358 Validation Accuracy: 0.508200\n",
      "Epoch 57, CIFAR-10 Batch 5:  Loss:     1.1611 Validation Accuracy: 0.514600\n",
      "Epoch 58, CIFAR-10 Batch 1:  Loss:     1.1766 Validation Accuracy: 0.516600\n",
      "Epoch 58, CIFAR-10 Batch 2:  Loss:     1.1956 Validation Accuracy: 0.520000\n",
      "Epoch 58, CIFAR-10 Batch 3:  Loss:     1.1163 Validation Accuracy: 0.518400\n",
      "Epoch 58, CIFAR-10 Batch 4:  Loss:     1.1262 Validation Accuracy: 0.517200\n",
      "Epoch 58, CIFAR-10 Batch 5:  Loss:     1.1590 Validation Accuracy: 0.515000\n",
      "Epoch 59, CIFAR-10 Batch 1:  Loss:     1.1596 Validation Accuracy: 0.521200\n",
      "Epoch 59, CIFAR-10 Batch 2:  Loss:     1.1807 Validation Accuracy: 0.519400\n",
      "Epoch 59, CIFAR-10 Batch 3:  Loss:     1.1097 Validation Accuracy: 0.521000\n",
      "Epoch 59, CIFAR-10 Batch 4:  Loss:     1.1093 Validation Accuracy: 0.521600\n",
      "Epoch 59, CIFAR-10 Batch 5:  Loss:     1.1350 Validation Accuracy: 0.517000\n",
      "Epoch 60, CIFAR-10 Batch 1:  Loss:     1.1524 Validation Accuracy: 0.521400\n",
      "Epoch 60, CIFAR-10 Batch 2:  Loss:     1.1787 Validation Accuracy: 0.522600\n",
      "Epoch 60, CIFAR-10 Batch 3:  Loss:     1.1056 Validation Accuracy: 0.526800\n",
      "Epoch 60, CIFAR-10 Batch 4:  Loss:     1.0966 Validation Accuracy: 0.521200\n",
      "Epoch 60, CIFAR-10 Batch 5:  Loss:     1.1261 Validation Accuracy: 0.520000\n",
      "Epoch 61, CIFAR-10 Batch 1:  Loss:     1.1468 Validation Accuracy: 0.518400\n",
      "Epoch 61, CIFAR-10 Batch 2:  Loss:     1.1754 Validation Accuracy: 0.521600\n",
      "Epoch 61, CIFAR-10 Batch 3:  Loss:     1.1061 Validation Accuracy: 0.523400\n",
      "Epoch 61, CIFAR-10 Batch 4:  Loss:     1.0896 Validation Accuracy: 0.524800\n",
      "Epoch 61, CIFAR-10 Batch 5:  Loss:     1.1199 Validation Accuracy: 0.525000\n",
      "Epoch 62, CIFAR-10 Batch 1:  Loss:     1.1351 Validation Accuracy: 0.518000\n",
      "Epoch 62, CIFAR-10 Batch 2:  Loss:     1.1537 Validation Accuracy: 0.521800\n",
      "Epoch 62, CIFAR-10 Batch 3:  Loss:     1.0901 Validation Accuracy: 0.524000\n",
      "Epoch 62, CIFAR-10 Batch 4:  Loss:     1.0872 Validation Accuracy: 0.523200\n",
      "Epoch 62, CIFAR-10 Batch 5:  Loss:     1.1160 Validation Accuracy: 0.525000\n",
      "Epoch 63, CIFAR-10 Batch 1:  Loss:     1.1282 Validation Accuracy: 0.521200\n",
      "Epoch 63, CIFAR-10 Batch 2:  Loss:     1.1490 Validation Accuracy: 0.525200\n",
      "Epoch 63, CIFAR-10 Batch 3:  Loss:     1.0955 Validation Accuracy: 0.518200\n",
      "Epoch 63, CIFAR-10 Batch 4:  Loss:     1.0757 Validation Accuracy: 0.522600\n",
      "Epoch 63, CIFAR-10 Batch 5:  Loss:     1.1014 Validation Accuracy: 0.526400\n",
      "Epoch 64, CIFAR-10 Batch 1:  Loss:     1.1287 Validation Accuracy: 0.517800\n",
      "Epoch 64, CIFAR-10 Batch 2:  Loss:     1.1509 Validation Accuracy: 0.532200\n",
      "Epoch 64, CIFAR-10 Batch 3:  Loss:     1.0758 Validation Accuracy: 0.527600\n",
      "Epoch 64, CIFAR-10 Batch 4:  Loss:     1.0774 Validation Accuracy: 0.525800\n",
      "Epoch 64, CIFAR-10 Batch 5:  Loss:     1.0964 Validation Accuracy: 0.525600\n",
      "Epoch 65, CIFAR-10 Batch 1:  Loss:     1.1099 Validation Accuracy: 0.526200\n",
      "Epoch 65, CIFAR-10 Batch 2:  Loss:     1.1305 Validation Accuracy: 0.527200\n",
      "Epoch 65, CIFAR-10 Batch 3:  Loss:     1.0747 Validation Accuracy: 0.528800\n",
      "Epoch 65, CIFAR-10 Batch 4:  Loss:     1.0759 Validation Accuracy: 0.516600\n",
      "Epoch 65, CIFAR-10 Batch 5:  Loss:     1.0894 Validation Accuracy: 0.528600\n",
      "Epoch 66, CIFAR-10 Batch 1:  Loss:     1.1146 Validation Accuracy: 0.533600\n",
      "Epoch 66, CIFAR-10 Batch 2:  Loss:     1.1438 Validation Accuracy: 0.524400\n",
      "Epoch 66, CIFAR-10 Batch 3:  Loss:     1.0877 Validation Accuracy: 0.521200\n",
      "Epoch 66, CIFAR-10 Batch 4:  Loss:     1.0664 Validation Accuracy: 0.524200\n",
      "Epoch 66, CIFAR-10 Batch 5:  Loss:     1.0832 Validation Accuracy: 0.529000\n",
      "Epoch 67, CIFAR-10 Batch 1:  Loss:     1.1008 Validation Accuracy: 0.529800\n",
      "Epoch 67, CIFAR-10 Batch 2:  Loss:     1.1293 Validation Accuracy: 0.535200\n",
      "Epoch 67, CIFAR-10 Batch 3:  Loss:     1.0678 Validation Accuracy: 0.521800\n",
      "Epoch 67, CIFAR-10 Batch 4:  Loss:     1.0705 Validation Accuracy: 0.525200\n",
      "Epoch 67, CIFAR-10 Batch 5:  Loss:     1.0829 Validation Accuracy: 0.529400\n",
      "Epoch 68, CIFAR-10 Batch 1:  Loss:     1.0971 Validation Accuracy: 0.527600\n",
      "Epoch 68, CIFAR-10 Batch 2:  Loss:     1.1279 Validation Accuracy: 0.531600\n",
      "Epoch 68, CIFAR-10 Batch 3:  Loss:     1.0603 Validation Accuracy: 0.525800\n",
      "Epoch 68, CIFAR-10 Batch 4:  Loss:     1.0500 Validation Accuracy: 0.531000\n",
      "Epoch 68, CIFAR-10 Batch 5:  Loss:     1.0691 Validation Accuracy: 0.532800\n",
      "Epoch 69, CIFAR-10 Batch 1:  Loss:     1.0898 Validation Accuracy: 0.533400\n",
      "Epoch 69, CIFAR-10 Batch 2:  Loss:     1.1177 Validation Accuracy: 0.531000\n",
      "Epoch 69, CIFAR-10 Batch 3:  Loss:     1.0715 Validation Accuracy: 0.529600\n",
      "Epoch 69, CIFAR-10 Batch 4:  Loss:     1.0471 Validation Accuracy: 0.533600\n",
      "Epoch 69, CIFAR-10 Batch 5:  Loss:     1.0660 Validation Accuracy: 0.532600\n",
      "Epoch 70, CIFAR-10 Batch 1:  Loss:     1.0843 Validation Accuracy: 0.535800\n",
      "Epoch 70, CIFAR-10 Batch 2:  Loss:     1.1060 Validation Accuracy: 0.530600\n",
      "Epoch 70, CIFAR-10 Batch 3:  Loss:     1.0546 Validation Accuracy: 0.533000\n",
      "Epoch 70, CIFAR-10 Batch 4:  Loss:     1.0365 Validation Accuracy: 0.526800\n",
      "Epoch 70, CIFAR-10 Batch 5:  Loss:     1.0554 Validation Accuracy: 0.536000\n",
      "Epoch 71, CIFAR-10 Batch 1:  Loss:     1.0763 Validation Accuracy: 0.534000\n",
      "Epoch 71, CIFAR-10 Batch 2:  Loss:     1.1030 Validation Accuracy: 0.531800\n",
      "Epoch 71, CIFAR-10 Batch 3:  Loss:     1.0639 Validation Accuracy: 0.527600\n",
      "Epoch 71, CIFAR-10 Batch 4:  Loss:     1.0498 Validation Accuracy: 0.520200\n",
      "Epoch 71, CIFAR-10 Batch 5:  Loss:     1.0631 Validation Accuracy: 0.533600\n",
      "Epoch 72, CIFAR-10 Batch 1:  Loss:     1.0835 Validation Accuracy: 0.526000\n",
      "Epoch 72, CIFAR-10 Batch 2:  Loss:     1.0977 Validation Accuracy: 0.542200\n",
      "Epoch 72, CIFAR-10 Batch 3:  Loss:     1.0404 Validation Accuracy: 0.534800\n",
      "Epoch 72, CIFAR-10 Batch 4:  Loss:     1.0314 Validation Accuracy: 0.531400\n",
      "Epoch 72, CIFAR-10 Batch 5:  Loss:     1.0585 Validation Accuracy: 0.528800\n",
      "Epoch 73, CIFAR-10 Batch 1:  Loss:     1.0757 Validation Accuracy: 0.529400\n",
      "Epoch 73, CIFAR-10 Batch 2:  Loss:     1.0941 Validation Accuracy: 0.539600\n",
      "Epoch 73, CIFAR-10 Batch 3:  Loss:     1.0298 Validation Accuracy: 0.541200\n",
      "Epoch 73, CIFAR-10 Batch 4:  Loss:     1.0147 Validation Accuracy: 0.535600\n",
      "Epoch 73, CIFAR-10 Batch 5:  Loss:     1.0367 Validation Accuracy: 0.536400\n",
      "Epoch 74, CIFAR-10 Batch 1:  Loss:     1.0603 Validation Accuracy: 0.536000\n",
      "Epoch 74, CIFAR-10 Batch 2:  Loss:     1.0774 Validation Accuracy: 0.544000\n",
      "Epoch 74, CIFAR-10 Batch 3:  Loss:     1.0219 Validation Accuracy: 0.536400\n",
      "Epoch 74, CIFAR-10 Batch 4:  Loss:     1.0105 Validation Accuracy: 0.534600\n",
      "Epoch 74, CIFAR-10 Batch 5:  Loss:     1.0328 Validation Accuracy: 0.538800\n",
      "Epoch 75, CIFAR-10 Batch 1:  Loss:     1.0586 Validation Accuracy: 0.535800\n",
      "Epoch 75, CIFAR-10 Batch 2:  Loss:     1.0734 Validation Accuracy: 0.535000\n",
      "Epoch 75, CIFAR-10 Batch 3:  Loss:     1.0395 Validation Accuracy: 0.540000\n",
      "Epoch 75, CIFAR-10 Batch 4:  Loss:     1.0109 Validation Accuracy: 0.531000\n",
      "Epoch 75, CIFAR-10 Batch 5:  Loss:     1.0396 Validation Accuracy: 0.532800\n",
      "Epoch 76, CIFAR-10 Batch 1:  Loss:     1.0502 Validation Accuracy: 0.533200\n",
      "Epoch 76, CIFAR-10 Batch 2:  Loss:     1.0755 Validation Accuracy: 0.540400\n",
      "Epoch 76, CIFAR-10 Batch 3:  Loss:     1.0319 Validation Accuracy: 0.535200\n",
      "Epoch 76, CIFAR-10 Batch 4:  Loss:     1.0026 Validation Accuracy: 0.533800\n",
      "Epoch 76, CIFAR-10 Batch 5:  Loss:     1.0291 Validation Accuracy: 0.532800\n",
      "Epoch 77, CIFAR-10 Batch 1:  Loss:     1.0612 Validation Accuracy: 0.523000\n",
      "Epoch 77, CIFAR-10 Batch 2:  Loss:     1.0789 Validation Accuracy: 0.542000\n",
      "Epoch 77, CIFAR-10 Batch 3:  Loss:     1.0153 Validation Accuracy: 0.536200\n",
      "Epoch 77, CIFAR-10 Batch 4:  Loss:     0.9967 Validation Accuracy: 0.539800\n",
      "Epoch 77, CIFAR-10 Batch 5:  Loss:     1.0250 Validation Accuracy: 0.538400\n",
      "Epoch 78, CIFAR-10 Batch 1:  Loss:     1.0461 Validation Accuracy: 0.537000\n",
      "Epoch 78, CIFAR-10 Batch 2:  Loss:     1.0642 Validation Accuracy: 0.537000\n",
      "Epoch 78, CIFAR-10 Batch 3:  Loss:     0.9966 Validation Accuracy: 0.541200\n",
      "Epoch 78, CIFAR-10 Batch 4:  Loss:     0.9828 Validation Accuracy: 0.536200\n",
      "Epoch 78, CIFAR-10 Batch 5:  Loss:     1.0050 Validation Accuracy: 0.537800\n",
      "Epoch 79, CIFAR-10 Batch 1:  Loss:     1.0405 Validation Accuracy: 0.533000\n",
      "Epoch 79, CIFAR-10 Batch 2:  Loss:     1.0585 Validation Accuracy: 0.539000\n",
      "Epoch 79, CIFAR-10 Batch 3:  Loss:     0.9937 Validation Accuracy: 0.547000\n",
      "Epoch 79, CIFAR-10 Batch 4:  Loss:     0.9769 Validation Accuracy: 0.541800\n",
      "Epoch 79, CIFAR-10 Batch 5:  Loss:     1.0070 Validation Accuracy: 0.542800\n",
      "Epoch 80, CIFAR-10 Batch 1:  Loss:     1.0410 Validation Accuracy: 0.537600\n",
      "Epoch 80, CIFAR-10 Batch 2:  Loss:     1.0537 Validation Accuracy: 0.538800\n",
      "Epoch 80, CIFAR-10 Batch 3:  Loss:     0.9827 Validation Accuracy: 0.544800\n",
      "Epoch 80, CIFAR-10 Batch 4:  Loss:     0.9951 Validation Accuracy: 0.529800\n",
      "Epoch 80, CIFAR-10 Batch 5:  Loss:     1.0006 Validation Accuracy: 0.543600\n",
      "Epoch 81, CIFAR-10 Batch 1:  Loss:     1.0290 Validation Accuracy: 0.536200\n",
      "Epoch 81, CIFAR-10 Batch 2:  Loss:     1.0520 Validation Accuracy: 0.543800\n",
      "Epoch 81, CIFAR-10 Batch 3:  Loss:     0.9891 Validation Accuracy: 0.543600\n",
      "Epoch 81, CIFAR-10 Batch 4:  Loss:     0.9800 Validation Accuracy: 0.541200\n",
      "Epoch 81, CIFAR-10 Batch 5:  Loss:     0.9932 Validation Accuracy: 0.546800\n",
      "Epoch 82, CIFAR-10 Batch 1:  Loss:     1.0214 Validation Accuracy: 0.544600\n",
      "Epoch 82, CIFAR-10 Batch 2:  Loss:     1.0564 Validation Accuracy: 0.540000\n",
      "Epoch 82, CIFAR-10 Batch 3:  Loss:     0.9888 Validation Accuracy: 0.537600\n",
      "Epoch 82, CIFAR-10 Batch 4:  Loss:     0.9663 Validation Accuracy: 0.545200\n",
      "Epoch 82, CIFAR-10 Batch 5:  Loss:     0.9878 Validation Accuracy: 0.543400\n",
      "Epoch 83, CIFAR-10 Batch 1:  Loss:     1.0149 Validation Accuracy: 0.544200\n",
      "Epoch 83, CIFAR-10 Batch 2:  Loss:     1.0383 Validation Accuracy: 0.540800\n",
      "Epoch 83, CIFAR-10 Batch 3:  Loss:     0.9790 Validation Accuracy: 0.541200\n",
      "Epoch 83, CIFAR-10 Batch 4:  Loss:     0.9626 Validation Accuracy: 0.542800\n",
      "Epoch 83, CIFAR-10 Batch 5:  Loss:     0.9798 Validation Accuracy: 0.547800\n",
      "Epoch 84, CIFAR-10 Batch 1:  Loss:     1.0160 Validation Accuracy: 0.544800\n",
      "Epoch 84, CIFAR-10 Batch 2:  Loss:     1.0338 Validation Accuracy: 0.541600\n",
      "Epoch 84, CIFAR-10 Batch 3:  Loss:     0.9746 Validation Accuracy: 0.541200\n",
      "Epoch 84, CIFAR-10 Batch 4:  Loss:     0.9655 Validation Accuracy: 0.532200\n",
      "Epoch 84, CIFAR-10 Batch 5:  Loss:     0.9889 Validation Accuracy: 0.540400\n",
      "Epoch 85, CIFAR-10 Batch 1:  Loss:     1.0156 Validation Accuracy: 0.542600\n",
      "Epoch 85, CIFAR-10 Batch 2:  Loss:     1.0279 Validation Accuracy: 0.547600\n",
      "Epoch 85, CIFAR-10 Batch 3:  Loss:     0.9585 Validation Accuracy: 0.546800\n",
      "Epoch 85, CIFAR-10 Batch 4:  Loss:     0.9551 Validation Accuracy: 0.547000\n",
      "Epoch 85, CIFAR-10 Batch 5:  Loss:     0.9692 Validation Accuracy: 0.547000\n",
      "Epoch 86, CIFAR-10 Batch 1:  Loss:     1.0056 Validation Accuracy: 0.549200\n",
      "Epoch 86, CIFAR-10 Batch 2:  Loss:     1.0179 Validation Accuracy: 0.550400\n",
      "Epoch 86, CIFAR-10 Batch 3:  Loss:     0.9515 Validation Accuracy: 0.544600\n",
      "Epoch 86, CIFAR-10 Batch 4:  Loss:     0.9409 Validation Accuracy: 0.549400\n",
      "Epoch 86, CIFAR-10 Batch 5:  Loss:     0.9680 Validation Accuracy: 0.550600\n",
      "Epoch 87, CIFAR-10 Batch 1:  Loss:     0.9949 Validation Accuracy: 0.546000\n",
      "Epoch 87, CIFAR-10 Batch 2:  Loss:     1.0083 Validation Accuracy: 0.541600\n",
      "Epoch 87, CIFAR-10 Batch 3:  Loss:     0.9544 Validation Accuracy: 0.540600\n",
      "Epoch 87, CIFAR-10 Batch 4:  Loss:     0.9392 Validation Accuracy: 0.546400\n",
      "Epoch 87, CIFAR-10 Batch 5:  Loss:     0.9527 Validation Accuracy: 0.551600\n",
      "Epoch 88, CIFAR-10 Batch 1:  Loss:     0.9972 Validation Accuracy: 0.543200\n",
      "Epoch 88, CIFAR-10 Batch 2:  Loss:     1.0128 Validation Accuracy: 0.543600\n",
      "Epoch 88, CIFAR-10 Batch 3:  Loss:     0.9517 Validation Accuracy: 0.545800\n",
      "Epoch 88, CIFAR-10 Batch 4:  Loss:     0.9457 Validation Accuracy: 0.544000\n",
      "Epoch 88, CIFAR-10 Batch 5:  Loss:     0.9543 Validation Accuracy: 0.548200\n",
      "Epoch 89, CIFAR-10 Batch 1:  Loss:     0.9904 Validation Accuracy: 0.544400\n",
      "Epoch 89, CIFAR-10 Batch 2:  Loss:     1.0121 Validation Accuracy: 0.544200\n",
      "Epoch 89, CIFAR-10 Batch 3:  Loss:     0.9373 Validation Accuracy: 0.549800\n",
      "Epoch 89, CIFAR-10 Batch 4:  Loss:     0.9450 Validation Accuracy: 0.545000\n",
      "Epoch 89, CIFAR-10 Batch 5:  Loss:     0.9463 Validation Accuracy: 0.547000\n",
      "Epoch 90, CIFAR-10 Batch 1:  Loss:     1.0024 Validation Accuracy: 0.543600\n",
      "Epoch 90, CIFAR-10 Batch 2:  Loss:     0.9970 Validation Accuracy: 0.550600\n",
      "Epoch 90, CIFAR-10 Batch 3:  Loss:     0.9255 Validation Accuracy: 0.548400\n",
      "Epoch 90, CIFAR-10 Batch 4:  Loss:     0.9279 Validation Accuracy: 0.544800\n",
      "Epoch 90, CIFAR-10 Batch 5:  Loss:     0.9444 Validation Accuracy: 0.554000\n",
      "Epoch 91, CIFAR-10 Batch 1:  Loss:     0.9780 Validation Accuracy: 0.550000\n",
      "Epoch 91, CIFAR-10 Batch 2:  Loss:     0.9884 Validation Accuracy: 0.549600\n",
      "Epoch 91, CIFAR-10 Batch 3:  Loss:     0.9273 Validation Accuracy: 0.545000\n",
      "Epoch 91, CIFAR-10 Batch 4:  Loss:     0.9278 Validation Accuracy: 0.540800\n",
      "Epoch 91, CIFAR-10 Batch 5:  Loss:     0.9415 Validation Accuracy: 0.547400\n",
      "Epoch 92, CIFAR-10 Batch 1:  Loss:     0.9757 Validation Accuracy: 0.551800\n",
      "Epoch 92, CIFAR-10 Batch 2:  Loss:     0.9788 Validation Accuracy: 0.556800\n",
      "Epoch 92, CIFAR-10 Batch 3:  Loss:     0.9218 Validation Accuracy: 0.551600\n",
      "Epoch 92, CIFAR-10 Batch 4:  Loss:     0.9113 Validation Accuracy: 0.549200\n",
      "Epoch 92, CIFAR-10 Batch 5:  Loss:     0.9307 Validation Accuracy: 0.552800\n",
      "Epoch 93, CIFAR-10 Batch 1:  Loss:     0.9733 Validation Accuracy: 0.557000\n",
      "Epoch 93, CIFAR-10 Batch 2:  Loss:     0.9819 Validation Accuracy: 0.557600\n",
      "Epoch 93, CIFAR-10 Batch 3:  Loss:     0.9224 Validation Accuracy: 0.550200\n",
      "Epoch 93, CIFAR-10 Batch 4:  Loss:     0.9093 Validation Accuracy: 0.551400\n",
      "Epoch 93, CIFAR-10 Batch 5:  Loss:     0.9362 Validation Accuracy: 0.551400\n",
      "Epoch 94, CIFAR-10 Batch 1:  Loss:     0.9592 Validation Accuracy: 0.554000\n",
      "Epoch 94, CIFAR-10 Batch 2:  Loss:     0.9693 Validation Accuracy: 0.556800\n",
      "Epoch 94, CIFAR-10 Batch 3:  Loss:     0.9175 Validation Accuracy: 0.549200\n",
      "Epoch 94, CIFAR-10 Batch 4:  Loss:     0.9042 Validation Accuracy: 0.543800\n",
      "Epoch 94, CIFAR-10 Batch 5:  Loss:     0.9242 Validation Accuracy: 0.549800\n",
      "Epoch 95, CIFAR-10 Batch 1:  Loss:     0.9620 Validation Accuracy: 0.550000\n",
      "Epoch 95, CIFAR-10 Batch 2:  Loss:     0.9753 Validation Accuracy: 0.553400\n",
      "Epoch 95, CIFAR-10 Batch 3:  Loss:     0.9032 Validation Accuracy: 0.554200\n",
      "Epoch 95, CIFAR-10 Batch 4:  Loss:     0.8941 Validation Accuracy: 0.551600\n",
      "Epoch 95, CIFAR-10 Batch 5:  Loss:     0.9239 Validation Accuracy: 0.550200\n",
      "Epoch 96, CIFAR-10 Batch 1:  Loss:     0.9435 Validation Accuracy: 0.555400\n",
      "Epoch 96, CIFAR-10 Batch 2:  Loss:     0.9577 Validation Accuracy: 0.560000\n",
      "Epoch 96, CIFAR-10 Batch 3:  Loss:     0.8971 Validation Accuracy: 0.554400\n",
      "Epoch 96, CIFAR-10 Batch 4:  Loss:     0.8897 Validation Accuracy: 0.551600\n",
      "Epoch 96, CIFAR-10 Batch 5:  Loss:     0.9277 Validation Accuracy: 0.552200\n",
      "Epoch 97, CIFAR-10 Batch 1:  Loss:     0.9480 Validation Accuracy: 0.554600\n",
      "Epoch 97, CIFAR-10 Batch 2:  Loss:     0.9596 Validation Accuracy: 0.558000\n",
      "Epoch 97, CIFAR-10 Batch 3:  Loss:     0.9014 Validation Accuracy: 0.554600\n",
      "Epoch 97, CIFAR-10 Batch 4:  Loss:     0.8864 Validation Accuracy: 0.553600\n",
      "Epoch 97, CIFAR-10 Batch 5:  Loss:     0.9027 Validation Accuracy: 0.556200\n",
      "Epoch 98, CIFAR-10 Batch 1:  Loss:     0.9384 Validation Accuracy: 0.555600\n",
      "Epoch 98, CIFAR-10 Batch 2:  Loss:     0.9643 Validation Accuracy: 0.556400\n",
      "Epoch 98, CIFAR-10 Batch 3:  Loss:     0.8989 Validation Accuracy: 0.555800\n",
      "Epoch 98, CIFAR-10 Batch 4:  Loss:     0.8740 Validation Accuracy: 0.555400\n",
      "Epoch 98, CIFAR-10 Batch 5:  Loss:     0.9023 Validation Accuracy: 0.554400\n",
      "Epoch 99, CIFAR-10 Batch 1:  Loss:     0.9364 Validation Accuracy: 0.554800\n",
      "Epoch 99, CIFAR-10 Batch 2:  Loss:     0.9454 Validation Accuracy: 0.558800\n",
      "Epoch 99, CIFAR-10 Batch 3:  Loss:     0.9328 Validation Accuracy: 0.548200\n",
      "Epoch 99, CIFAR-10 Batch 4:  Loss:     0.8872 Validation Accuracy: 0.544200\n",
      "Epoch 99, CIFAR-10 Batch 5:  Loss:     0.9083 Validation Accuracy: 0.550600\n",
      "Epoch 100, CIFAR-10 Batch 1:  Loss:     0.9377 Validation Accuracy: 0.551400\n",
      "Epoch 100, CIFAR-10 Batch 2:  Loss:     0.9502 Validation Accuracy: 0.549400\n",
      "Epoch 100, CIFAR-10 Batch 3:  Loss:     0.9118 Validation Accuracy: 0.554400\n",
      "Epoch 100, CIFAR-10 Batch 4:  Loss:     0.8970 Validation Accuracy: 0.541200\n",
      "Epoch 100, CIFAR-10 Batch 5:  Loss:     0.9066 Validation Accuracy: 0.548400\n"
     ]
    }
   ],
   "source": [
    "\"\"\"\n",
    "DON'T MODIFY ANYTHING IN THIS CELL\n",
    "\"\"\"\n",
    "save_model_path = './image_classification'\n",
    "\n",
    "print('Training...')\n",
    "with tf.Session() as sess:\n",
    "    # Initializing the variables\n",
    "    sess.run(tf.global_variables_initializer())\n",
    "    \n",
    "    # Training cycle\n",
    "    for epoch in range(epochs):\n",
    "        # Loop over all batches\n",
    "        n_batches = 5\n",
    "        for batch_i in range(1, n_batches + 1):\n",
    "            for batch_features, batch_labels in helper.load_preprocess_training_batch(batch_i, batch_size):\n",
    "                train_neural_network(sess, optimizer, keep_probability, batch_features, batch_labels)\n",
    "            print('Epoch {:>2}, CIFAR-10 Batch {}:  '.format(epoch + 1, batch_i), end='')\n",
    "            print_stats(sess, batch_features, batch_labels, cost, accuracy)\n",
    "            \n",
    "    # Save Model\n",
    "    saver = tf.train.Saver()\n",
    "    save_path = saver.save(sess, save_model_path)"
   ]
  },
  {
   "cell_type": "markdown",
   "metadata": {
    "deletable": true,
    "editable": true
   },
   "source": [
    "# Checkpoint\n",
    "The model has been saved to disk.\n",
    "## Test Model\n",
    "Test your model against the test dataset.  This will be your final accuracy. You should have an accuracy greater than 50%. If you don't, keep tweaking the model architecture and parameters."
   ]
  },
  {
   "cell_type": "code",
   "execution_count": 123,
   "metadata": {
    "collapsed": false,
    "deletable": true,
    "editable": true
   },
   "outputs": [
    {
     "name": "stdout",
     "output_type": "stream",
     "text": [
      "Testing Accuracy: 0.558704654375712\n",
      "\n"
     ]
    },
    {
     "data": {
      "image/png": "[encoded data removed]",
      "text/plain": [
       "<matplotlib.figure.Figure at 0x7fb917ccb198>"
      ]
     },
     "metadata": {
      "image/png": {
       "height": 319,
       "width": 355
      }
     },
     "output_type": "display_data"
    }
   ],
   "source": [
    "\"\"\"\n",
    "DON'T MODIFY ANYTHING IN THIS CELL\n",
    "\"\"\"\n",
    "%matplotlib inline\n",
    "%config InlineBackend.figure_format = 'retina'\n",
    "\n",
    "import tensorflow as tf\n",
    "import pickle\n",
    "import helper\n",
    "import random\n",
    "\n",
    "# Set batch size if not already set\n",
    "try:\n",
    "    if batch_size:\n",
    "        pass\n",
    "except NameError:\n",
    "    batch_size = 64\n",
    "\n",
    "save_model_path = './image_classification'\n",
    "n_samples = 4\n",
    "top_n_predictions = 3\n",
    "\n",
    "def test_model():\n",
    "    \"\"\"\n",
    "    Test the saved model against the test dataset\n",
    "    \"\"\"\n",
    "\n",
    "    test_features, test_labels = pickle.load(open('preprocess_test.p', mode='rb'))\n",
    "    loaded_graph = tf.Graph()\n",
    "\n",
    "    with tf.Session(graph=loaded_graph) as sess:\n",
    "        # Load model\n",
    "        loader = tf.train.import_meta_graph(save_model_path + '.meta')\n",
    "        loader.restore(sess, save_model_path)\n",
    "\n",
    "        # Get Tensors from loaded model\n",
    "        loaded_x = loaded_graph.get_tensor_by_name('x:0')\n",
    "        loaded_y = loaded_graph.get_tensor_by_name('y:0')\n",
    "        loaded_keep_prob = loaded_graph.get_tensor_by_name('keep_prob:0')\n",
    "        loaded_logits = loaded_graph.get_tensor_by_name('logits:0')\n",
    "        loaded_acc = loaded_graph.get_tensor_by_name('accuracy:0')\n",
    "        \n",
    "        # Get accuracy in batches for memory limitations\n",
    "        test_batch_acc_total = 0\n",
    "        test_batch_count = 0\n",
    "        \n",
    "        for test_feature_batch, test_label_batch in helper.batch_features_labels(test_features, test_labels, batch_size):\n",
    "            test_batch_acc_total += sess.run(\n",
    "                loaded_acc,\n",
    "                feed_dict={loaded_x: test_feature_batch, loaded_y: test_label_batch, loaded_keep_prob: 1.0})\n",
    "            test_batch_count += 1\n",
    "\n",
    "        print('Testing Accuracy: {}\\n'.format(test_batch_acc_total/test_batch_count))\n",
    "\n",
    "        # Print Random Samples\n",
    "        random_test_features, random_test_labels = tuple(zip(*random.sample(list(zip(test_features, test_labels)), n_samples)))\n",
    "        random_test_predictions = sess.run(\n",
    "            tf.nn.top_k(tf.nn.softmax(loaded_logits), top_n_predictions),\n",
    "            feed_dict={loaded_x: random_test_features, loaded_y: random_test_labels, loaded_keep_prob: 1.0})\n",
    "        helper.display_image_predictions(random_test_features, random_test_labels, random_test_predictions)\n",
    "\n",
    "\n",
    "test_model()"
   ]
  },
  {
   "cell_type": "markdown",
   "metadata": {
    "deletable": true,
    "editable": true
   },
   "source": [
    "## Why 50-80% Accuracy?\n",
    "You might be wondering why you can't get an accuracy any higher. First things first, 50% isn't bad for a simple CNN.  Pure guessing would get you 10% accuracy. However, you might notice people are getting scores [well above 80%](http://rodrigob.github.io/are_we_there_yet/build/classification_datasets_results.html#43494641522d3130).  That's because we haven't taught you all there is to know about neural networks. We still need to cover a few more techniques.\n",
    "## Submitting This Project\n",
    "When submitting this project, make sure to run all the cells before saving the notebook.  Save the notebook file as \"dlnd_image_classification.ipynb\" and save it as a HTML file under \"File\" -> \"Download as\".  Include the \"helper.py\" and \"problem_unittests.py\" files in your submission."
   ]
  }
 ],
 "metadata": {
  "kernelspec": {
   "display_name": "Python 3",
   "language": "python",
   "name": "python3"
  },
  "language_info": {
   "codemirror_mode": {
    "name": "ipython",
    "version": 3
   },
   "file_extension": ".py",
   "mimetype": "text/x-python",
   "name": "python",
   "nbconvert_exporter": "python",
   "pygments_lexer": "ipython3",
   "version": "3.5.2"
  },
  "widgets": {
   "state": {},
   "version": "1.1.2"
  }
 },
 "nbformat": 4,
 "nbformat_minor": 0
}
